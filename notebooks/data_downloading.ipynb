{
 "cells": [
  {
   "cell_type": "code",
   "execution_count": 1,
   "id": "f700104f",
   "metadata": {},
   "outputs": [],
   "source": [
    "import pandas as pd\n",
    "import numpy as np\n",
    "from sqlalchemy import create_engine\n",
    "from sqlalchemy.engine import Engine\n",
    "from pathlib import Path\n",
    "import yaml"
   ]
  },
  {
   "cell_type": "code",
   "execution_count": 2,
   "id": "cbf5f2d5",
   "metadata": {},
   "outputs": [],
   "source": [
    "# Настроим подключение к базе данных\n",
    "CONFIG_PATH = \"config.yaml\"\n",
    "with open(CONFIG_PATH, \"r\", encoding=\"utf-8\") as config_file:\n",
    "    CONFIG = yaml.load(config_file, Loader=yaml.FullLoader)\n",
    "\n",
    "CON = create_engine(\n",
    "    CONFIG['database_url']\n",
    ")\n",
    "\n",
    "def select(query: str, con: Engine = CON) -> pd.DataFrame:\n",
    "    \"\"\"\n",
    "    Функция обобщённого sql-запроса к базе данных соцсети, содержащей три таблицы:\n",
    "    1. Данные пользователей user\n",
    "    2. Данные постов post\n",
    "    3. Данные действий пользователей в соцсети feed\n",
    "    \"\"\"\n",
    "    return pd.read_sql(query, con)"
   ]
  },
  {
   "cell_type": "markdown",
   "id": "d5505863",
   "metadata": {},
   "source": [
    "##### Загрузим данные из базы"
   ]
  },
  {
   "cell_type": "code",
   "execution_count": 3,
   "id": "2f332a92",
   "metadata": {},
   "outputs": [
    {
     "ename": "AttributeError",
     "evalue": "'OptionEngine' object has no attribute 'execute'",
     "output_type": "error",
     "traceback": [
      "\u001b[1;31m---------------------------------------------------------------------------\u001b[0m",
      "\u001b[1;31mAttributeError\u001b[0m                            Traceback (most recent call last)",
      "Cell \u001b[1;32mIn [3], line 7\u001b[0m\n\u001b[0;32m      1\u001b[0m \u001b[38;5;66;03m# Посмотрим таблицу юзеров\u001b[39;00m\n\u001b[0;32m      2\u001b[0m q \u001b[38;5;241m=\u001b[39m \u001b[38;5;124m\"\"\"\u001b[39m\n\u001b[0;32m      3\u001b[0m \u001b[38;5;124mSELECT *\u001b[39m\n\u001b[0;32m      4\u001b[0m \u001b[38;5;124mFROM public.user\u001b[39m\n\u001b[0;32m      5\u001b[0m \u001b[38;5;124m\"\"\"\u001b[39m\n\u001b[1;32m----> 7\u001b[0m user_data \u001b[38;5;241m=\u001b[39m \u001b[43mselect\u001b[49m\u001b[43m(\u001b[49m\u001b[43mq\u001b[49m\u001b[43m)\u001b[49m\n\u001b[0;32m      8\u001b[0m user_data\u001b[38;5;241m.\u001b[39mhead()\n",
      "Cell \u001b[1;32mIn [2], line 17\u001b[0m, in \u001b[0;36mselect\u001b[1;34m(query, con)\u001b[0m\n\u001b[0;32m     10\u001b[0m \u001b[38;5;28;01mdef\u001b[39;00m \u001b[38;5;21mselect\u001b[39m(query: \u001b[38;5;28mstr\u001b[39m, con: Engine \u001b[38;5;241m=\u001b[39m CON) \u001b[38;5;241m-\u001b[39m\u001b[38;5;241m>\u001b[39m pd\u001b[38;5;241m.\u001b[39mDataFrame:\n\u001b[0;32m     11\u001b[0m     \u001b[38;5;124;03m\"\"\"\u001b[39;00m\n\u001b[0;32m     12\u001b[0m \u001b[38;5;124;03m    Функция обобщённого sql-запроса к базе данных соцсети, содержащей три таблицы:\u001b[39;00m\n\u001b[0;32m     13\u001b[0m \u001b[38;5;124;03m    1. Данные пользователей user\u001b[39;00m\n\u001b[0;32m     14\u001b[0m \u001b[38;5;124;03m    2. Данные постов post\u001b[39;00m\n\u001b[0;32m     15\u001b[0m \u001b[38;5;124;03m    3. Данные действий пользователей в соцсети feed\u001b[39;00m\n\u001b[0;32m     16\u001b[0m \u001b[38;5;124;03m    \"\"\"\u001b[39;00m\n\u001b[1;32m---> 17\u001b[0m     \u001b[38;5;28;01mreturn\u001b[39;00m \u001b[43mpd\u001b[49m\u001b[38;5;241;43m.\u001b[39;49m\u001b[43mread_sql\u001b[49m\u001b[43m(\u001b[49m\u001b[43mquery\u001b[49m\u001b[43m,\u001b[49m\u001b[43m \u001b[49m\u001b[43mcon\u001b[49m\u001b[43m)\u001b[49m\n",
      "File \u001b[1;32m~\\AppData\\Local\\Programs\\Python\\Python310\\lib\\site-packages\\pandas\\io\\sql.py:590\u001b[0m, in \u001b[0;36mread_sql\u001b[1;34m(sql, con, index_col, coerce_float, params, parse_dates, columns, chunksize)\u001b[0m\n\u001b[0;32m    581\u001b[0m     \u001b[38;5;28;01mreturn\u001b[39;00m pandas_sql\u001b[38;5;241m.\u001b[39mread_table(\n\u001b[0;32m    582\u001b[0m         sql,\n\u001b[0;32m    583\u001b[0m         index_col\u001b[38;5;241m=\u001b[39mindex_col,\n\u001b[1;32m   (...)\u001b[0m\n\u001b[0;32m    587\u001b[0m         chunksize\u001b[38;5;241m=\u001b[39mchunksize,\n\u001b[0;32m    588\u001b[0m     )\n\u001b[0;32m    589\u001b[0m \u001b[38;5;28;01melse\u001b[39;00m:\n\u001b[1;32m--> 590\u001b[0m     \u001b[38;5;28;01mreturn\u001b[39;00m \u001b[43mpandas_sql\u001b[49m\u001b[38;5;241;43m.\u001b[39;49m\u001b[43mread_query\u001b[49m\u001b[43m(\u001b[49m\n\u001b[0;32m    591\u001b[0m \u001b[43m        \u001b[49m\u001b[43msql\u001b[49m\u001b[43m,\u001b[49m\n\u001b[0;32m    592\u001b[0m \u001b[43m        \u001b[49m\u001b[43mindex_col\u001b[49m\u001b[38;5;241;43m=\u001b[39;49m\u001b[43mindex_col\u001b[49m\u001b[43m,\u001b[49m\n\u001b[0;32m    593\u001b[0m \u001b[43m        \u001b[49m\u001b[43mparams\u001b[49m\u001b[38;5;241;43m=\u001b[39;49m\u001b[43mparams\u001b[49m\u001b[43m,\u001b[49m\n\u001b[0;32m    594\u001b[0m \u001b[43m        \u001b[49m\u001b[43mcoerce_float\u001b[49m\u001b[38;5;241;43m=\u001b[39;49m\u001b[43mcoerce_float\u001b[49m\u001b[43m,\u001b[49m\n\u001b[0;32m    595\u001b[0m \u001b[43m        \u001b[49m\u001b[43mparse_dates\u001b[49m\u001b[38;5;241;43m=\u001b[39;49m\u001b[43mparse_dates\u001b[49m\u001b[43m,\u001b[49m\n\u001b[0;32m    596\u001b[0m \u001b[43m        \u001b[49m\u001b[43mchunksize\u001b[49m\u001b[38;5;241;43m=\u001b[39;49m\u001b[43mchunksize\u001b[49m\u001b[43m,\u001b[49m\n\u001b[0;32m    597\u001b[0m \u001b[43m    \u001b[49m\u001b[43m)\u001b[49m\n",
      "File \u001b[1;32m~\\AppData\\Local\\Programs\\Python\\Python310\\lib\\site-packages\\pandas\\io\\sql.py:1560\u001b[0m, in \u001b[0;36mSQLDatabase.read_query\u001b[1;34m(self, sql, index_col, coerce_float, parse_dates, params, chunksize, dtype)\u001b[0m\n\u001b[0;32m   1512\u001b[0m \u001b[38;5;124;03m\"\"\"\u001b[39;00m\n\u001b[0;32m   1513\u001b[0m \u001b[38;5;124;03mRead SQL query into a DataFrame.\u001b[39;00m\n\u001b[0;32m   1514\u001b[0m \n\u001b[1;32m   (...)\u001b[0m\n\u001b[0;32m   1556\u001b[0m \n\u001b[0;32m   1557\u001b[0m \u001b[38;5;124;03m\"\"\"\u001b[39;00m\n\u001b[0;32m   1558\u001b[0m args \u001b[38;5;241m=\u001b[39m _convert_params(sql, params)\n\u001b[1;32m-> 1560\u001b[0m result \u001b[38;5;241m=\u001b[39m \u001b[38;5;28;43mself\u001b[39;49m\u001b[38;5;241;43m.\u001b[39;49m\u001b[43mexecute\u001b[49m\u001b[43m(\u001b[49m\u001b[38;5;241;43m*\u001b[39;49m\u001b[43margs\u001b[49m\u001b[43m)\u001b[49m\n\u001b[0;32m   1561\u001b[0m columns \u001b[38;5;241m=\u001b[39m result\u001b[38;5;241m.\u001b[39mkeys()\n\u001b[0;32m   1563\u001b[0m \u001b[38;5;28;01mif\u001b[39;00m chunksize \u001b[38;5;129;01mis\u001b[39;00m \u001b[38;5;129;01mnot\u001b[39;00m \u001b[38;5;28;01mNone\u001b[39;00m:\n",
      "File \u001b[1;32m~\\AppData\\Local\\Programs\\Python\\Python310\\lib\\site-packages\\pandas\\io\\sql.py:1405\u001b[0m, in \u001b[0;36mSQLDatabase.execute\u001b[1;34m(self, *args, **kwargs)\u001b[0m\n\u001b[0;32m   1403\u001b[0m \u001b[38;5;28;01mdef\u001b[39;00m \u001b[38;5;21mexecute\u001b[39m(\u001b[38;5;28mself\u001b[39m, \u001b[38;5;241m*\u001b[39margs, \u001b[38;5;241m*\u001b[39m\u001b[38;5;241m*\u001b[39mkwargs):\n\u001b[0;32m   1404\u001b[0m     \u001b[38;5;124;03m\"\"\"Simple passthrough to SQLAlchemy connectable\"\"\"\u001b[39;00m\n\u001b[1;32m-> 1405\u001b[0m     \u001b[38;5;28;01mreturn\u001b[39;00m \u001b[38;5;28;43mself\u001b[39;49m\u001b[38;5;241;43m.\u001b[39;49m\u001b[43mconnectable\u001b[49m\u001b[38;5;241;43m.\u001b[39;49m\u001b[43mexecution_options\u001b[49m\u001b[43m(\u001b[49m\u001b[43m)\u001b[49m\u001b[38;5;241;43m.\u001b[39;49m\u001b[43mexecute\u001b[49m(\u001b[38;5;241m*\u001b[39margs, \u001b[38;5;241m*\u001b[39m\u001b[38;5;241m*\u001b[39mkwargs)\n",
      "\u001b[1;31mAttributeError\u001b[0m: 'OptionEngine' object has no attribute 'execute'"
     ]
    }
   ],
   "source": [
    "# Посмотрим таблицу юзеров\n",
    "q = \"\"\"\n",
    "SELECT *\n",
    "FROM public.user\n",
    "\"\"\"\n",
    "\n",
    "user_data = select(q)\n",
    "user_data.head()"
   ]
  },
  {
   "cell_type": "code",
   "execution_count": null,
   "id": "4c71e738",
   "metadata": {},
   "outputs": [],
   "source": [
    "user_data.shape"
   ]
  },
  {
   "cell_type": "code",
   "execution_count": null,
   "id": "08db0852",
   "metadata": {},
   "outputs": [],
   "source": [
    "# Теперь таблицу постов\n",
    "q = \"\"\"\n",
    "SELECT *\n",
    "FROM public.post\n",
    "\"\"\"\n",
    "\n",
    "post_data = select(q)\n",
    "post_data.head()"
   ]
  },
  {
   "cell_type": "code",
   "execution_count": null,
   "id": "79a60983",
   "metadata": {},
   "outputs": [],
   "source": [
    "# Наконец посмотрим на таблицу взаимодействия пользователей и постов в соцсети\n",
    "q = \"\"\"\n",
    "SELECT count(*)\n",
    "FROM public.feed_data\n",
    "\"\"\"\n",
    "\n",
    "count_feed_data = select(q)\n",
    "count_feed_data.head()"
   ]
  },
  {
   "cell_type": "code",
   "execution_count": null,
   "id": "bae1e27d",
   "metadata": {},
   "outputs": [],
   "source": [
    "# Как видно, в таблице 77 миллионов записей, что превышает наши вычислительные возможности.\n",
    "# Для решения этой проблемы отсортируем и пронумеруем все действия юзеров с помощью оконной функции\n",
    "# и отфильтруем ранние действия юзеров и будем рассматривать только не позднее 35го по счету.\n",
    "\n",
    "q = \"\"\"\n",
    "WITH q1 (timestamp, user_id, post_id, action, target, num) AS \n",
    "(\n",
    "    SELECT timestamp, user_id, post_id, action, target, ROW_NUMBER() OVER (PARTITION BY user_id ORDER BY timestamp DESC) AS num\n",
    "    FROM public.feed_data\n",
    "    WHERE action = 'view'\n",
    ")\n",
    "SELECT timestamp, user_id, post_id, target\n",
    "FROM q1\n",
    "WHERE num <= 35\n",
    "\"\"\"\n",
    "\n",
    "feed_data = select(q)\n",
    "feed_data.head()"
   ]
  },
  {
   "cell_type": "code",
   "execution_count": null,
   "id": "bb1761eb",
   "metadata": {
    "scrolled": false
   },
   "outputs": [],
   "source": [
    "# Получаем уже приемлемое количество записей\n",
    "\n",
    "feed_data.shape"
   ]
  },
  {
   "cell_type": "markdown",
   "id": "58da061a",
   "metadata": {},
   "source": [
    "##### Получим итоговый датасет для решения задачи"
   ]
  },
  {
   "cell_type": "code",
   "execution_count": null,
   "id": "53e46196",
   "metadata": {},
   "outputs": [],
   "source": [
    "# Смёрджим датафреймы для получения итогового датасета\n",
    "\n",
    "data = feed_data.merge(\n",
    "    user_data.rename(columns={'id': 'user_id'}), on='user_id'\n",
    ").merge(\n",
    "    post_data.rename(columns={'id': 'post_id'}), on='post_id'\n",
    ")\n",
    "\n",
    "data.head()"
   ]
  },
  {
   "cell_type": "code",
   "execution_count": null,
   "id": "dc838beb",
   "metadata": {},
   "outputs": [],
   "source": [
    "data.shape"
   ]
  },
  {
   "cell_type": "code",
   "execution_count": null,
   "id": "c8dfd3e3",
   "metadata": {},
   "outputs": [],
   "source": [
    "# Сохраним датасеты для их дальнейшей обработки перед обучением модели\n",
    "\n",
    "post_data.to_csv(CONFIG['datasets_folder'] + '/post_data.csv', index=False)\n",
    "data.to_csv(CONFIG['datasets_folder'] + '/data.csv', index=False)"
   ]
  },
  {
   "cell_type": "code",
   "execution_count": null,
   "id": "64c88024",
   "metadata": {},
   "outputs": [],
   "source": []
  }
 ],
 "metadata": {
  "kernelspec": {
   "display_name": "Python 3 (ipykernel)",
   "language": "python",
   "name": "python3"
  },
  "language_info": {
   "codemirror_mode": {
    "name": "ipython",
    "version": 3
   },
   "file_extension": ".py",
   "mimetype": "text/x-python",
   "name": "python",
   "nbconvert_exporter": "python",
   "pygments_lexer": "ipython3",
   "version": "3.10.7"
  }
 },
 "nbformat": 4,
 "nbformat_minor": 5
}
