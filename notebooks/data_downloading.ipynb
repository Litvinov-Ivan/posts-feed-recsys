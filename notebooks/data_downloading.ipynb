{
 "cells": [
  {
   "cell_type": "code",
   "execution_count": 1,
   "id": "f700104f",
   "metadata": {},
   "outputs": [],
   "source": [
    "import pandas as pd\n",
    "import numpy as np\n",
    "from sqlalchemy import create_engine\n",
    "from sqlalchemy.engine import Engine\n",
    "from pathlib import Path\n",
    "import yaml\n",
    "import datetime"
   ]
  },
  {
   "cell_type": "code",
   "execution_count": 2,
   "id": "cbf5f2d5",
   "metadata": {},
   "outputs": [],
   "source": [
    "# Настроим подключение к базе данных\n",
    "CONFIG_PATH = \"config.yaml\"\n",
    "with open(CONFIG_PATH, \"r\", encoding=\"utf-8\") as config_file:\n",
    "    CONFIG = yaml.load(config_file, Loader=yaml.FullLoader)\n",
    "\n",
    "CON = create_engine(\n",
    "    CONFIG['database_url']\n",
    ")\n",
    "\n",
    "def select(query: str, con: Engine = CON) -> pd.DataFrame:\n",
    "    \"\"\"\n",
    "    Функция обобщённого sql-запроса к базе данных соцсети, содержащей три таблицы:\n",
    "    1. Данные пользователей user\n",
    "    2. Данные постов post\n",
    "    3. Данные действий пользователей в соцсети feed\n",
    "    \"\"\"\n",
    "    return pd.read_sql(query, con)"
   ]
  },
  {
   "cell_type": "markdown",
   "id": "d5505863",
   "metadata": {},
   "source": [
    "##### Загрузим данные из базы"
   ]
  },
  {
   "cell_type": "code",
   "execution_count": 3,
   "id": "62868f31",
   "metadata": {},
   "outputs": [
    {
     "data": {
      "text/html": [
       "<div>\n",
       "<style scoped>\n",
       "    .dataframe tbody tr th:only-of-type {\n",
       "        vertical-align: middle;\n",
       "    }\n",
       "\n",
       "    .dataframe tbody tr th {\n",
       "        vertical-align: top;\n",
       "    }\n",
       "\n",
       "    .dataframe thead th {\n",
       "        text-align: right;\n",
       "    }\n",
       "</style>\n",
       "<table border=\"1\" class=\"dataframe\">\n",
       "  <thead>\n",
       "    <tr style=\"text-align: right;\">\n",
       "      <th></th>\n",
       "      <th>id</th>\n",
       "      <th>gender</th>\n",
       "      <th>age</th>\n",
       "      <th>country</th>\n",
       "      <th>city</th>\n",
       "      <th>exp_group</th>\n",
       "      <th>os</th>\n",
       "      <th>source</th>\n",
       "    </tr>\n",
       "  </thead>\n",
       "  <tbody>\n",
       "    <tr>\n",
       "      <th>0</th>\n",
       "      <td>200</td>\n",
       "      <td>1</td>\n",
       "      <td>34</td>\n",
       "      <td>Russia</td>\n",
       "      <td>Degtyarsk</td>\n",
       "      <td>3</td>\n",
       "      <td>Android</td>\n",
       "      <td>ads</td>\n",
       "    </tr>\n",
       "    <tr>\n",
       "      <th>1</th>\n",
       "      <td>201</td>\n",
       "      <td>0</td>\n",
       "      <td>37</td>\n",
       "      <td>Russia</td>\n",
       "      <td>Abakan</td>\n",
       "      <td>0</td>\n",
       "      <td>Android</td>\n",
       "      <td>ads</td>\n",
       "    </tr>\n",
       "    <tr>\n",
       "      <th>2</th>\n",
       "      <td>202</td>\n",
       "      <td>1</td>\n",
       "      <td>17</td>\n",
       "      <td>Russia</td>\n",
       "      <td>Smolensk</td>\n",
       "      <td>4</td>\n",
       "      <td>Android</td>\n",
       "      <td>ads</td>\n",
       "    </tr>\n",
       "    <tr>\n",
       "      <th>3</th>\n",
       "      <td>203</td>\n",
       "      <td>0</td>\n",
       "      <td>18</td>\n",
       "      <td>Russia</td>\n",
       "      <td>Moscow</td>\n",
       "      <td>1</td>\n",
       "      <td>iOS</td>\n",
       "      <td>ads</td>\n",
       "    </tr>\n",
       "    <tr>\n",
       "      <th>4</th>\n",
       "      <td>204</td>\n",
       "      <td>0</td>\n",
       "      <td>36</td>\n",
       "      <td>Russia</td>\n",
       "      <td>Anzhero-Sudzhensk</td>\n",
       "      <td>3</td>\n",
       "      <td>Android</td>\n",
       "      <td>ads</td>\n",
       "    </tr>\n",
       "  </tbody>\n",
       "</table>\n",
       "</div>"
      ],
      "text/plain": [
       "    id  gender  age country               city  exp_group       os source\n",
       "0  200       1   34  Russia          Degtyarsk          3  Android    ads\n",
       "1  201       0   37  Russia             Abakan          0  Android    ads\n",
       "2  202       1   17  Russia           Smolensk          4  Android    ads\n",
       "3  203       0   18  Russia             Moscow          1      iOS    ads\n",
       "4  204       0   36  Russia  Anzhero-Sudzhensk          3  Android    ads"
      ]
     },
     "execution_count": 3,
     "metadata": {},
     "output_type": "execute_result"
    }
   ],
   "source": [
    "# Загрузим таблицу юзеров \n",
    "q = \"\"\"\n",
    "SELECT *\n",
    "FROM public.user\n",
    "\"\"\"\n",
    "\n",
    "user_data = select(q)\n",
    "user_data.head()"
   ]
  },
  {
   "cell_type": "code",
   "execution_count": 4,
   "id": "08db0852",
   "metadata": {},
   "outputs": [
    {
     "data": {
      "text/html": [
       "<div>\n",
       "<style scoped>\n",
       "    .dataframe tbody tr th:only-of-type {\n",
       "        vertical-align: middle;\n",
       "    }\n",
       "\n",
       "    .dataframe tbody tr th {\n",
       "        vertical-align: top;\n",
       "    }\n",
       "\n",
       "    .dataframe thead th {\n",
       "        text-align: right;\n",
       "    }\n",
       "</style>\n",
       "<table border=\"1\" class=\"dataframe\">\n",
       "  <thead>\n",
       "    <tr style=\"text-align: right;\">\n",
       "      <th></th>\n",
       "      <th>id</th>\n",
       "      <th>text</th>\n",
       "      <th>topic</th>\n",
       "    </tr>\n",
       "  </thead>\n",
       "  <tbody>\n",
       "    <tr>\n",
       "      <th>0</th>\n",
       "      <td>1</td>\n",
       "      <td>UK economy facing major risks\\n\\nThe UK manufa...</td>\n",
       "      <td>business</td>\n",
       "    </tr>\n",
       "    <tr>\n",
       "      <th>1</th>\n",
       "      <td>2</td>\n",
       "      <td>Aids and climate top Davos agenda\\n\\nClimate c...</td>\n",
       "      <td>business</td>\n",
       "    </tr>\n",
       "    <tr>\n",
       "      <th>2</th>\n",
       "      <td>3</td>\n",
       "      <td>Asian quake hits European shares\\n\\nShares in ...</td>\n",
       "      <td>business</td>\n",
       "    </tr>\n",
       "    <tr>\n",
       "      <th>3</th>\n",
       "      <td>4</td>\n",
       "      <td>India power shares jump on debut\\n\\nShares in ...</td>\n",
       "      <td>business</td>\n",
       "    </tr>\n",
       "    <tr>\n",
       "      <th>4</th>\n",
       "      <td>5</td>\n",
       "      <td>Lacroix label bought by US firm\\n\\nLuxury good...</td>\n",
       "      <td>business</td>\n",
       "    </tr>\n",
       "  </tbody>\n",
       "</table>\n",
       "</div>"
      ],
      "text/plain": [
       "   id                                               text     topic\n",
       "0   1  UK economy facing major risks\\n\\nThe UK manufa...  business\n",
       "1   2  Aids and climate top Davos agenda\\n\\nClimate c...  business\n",
       "2   3  Asian quake hits European shares\\n\\nShares in ...  business\n",
       "3   4  India power shares jump on debut\\n\\nShares in ...  business\n",
       "4   5  Lacroix label bought by US firm\\n\\nLuxury good...  business"
      ]
     },
     "execution_count": 4,
     "metadata": {},
     "output_type": "execute_result"
    }
   ],
   "source": [
    "# Теперь таблицу постов \n",
    "q = \"\"\"\n",
    "SELECT *\n",
    "FROM public.post\n",
    "\"\"\"\n",
    "\n",
    "post_data = select(q)\n",
    "post_data.head()"
   ]
  },
  {
   "cell_type": "code",
   "execution_count": 5,
   "id": "bae1e27d",
   "metadata": {},
   "outputs": [
    {
     "data": {
      "text/html": [
       "<div>\n",
       "<style scoped>\n",
       "    .dataframe tbody tr th:only-of-type {\n",
       "        vertical-align: middle;\n",
       "    }\n",
       "\n",
       "    .dataframe tbody tr th {\n",
       "        vertical-align: top;\n",
       "    }\n",
       "\n",
       "    .dataframe thead th {\n",
       "        text-align: right;\n",
       "    }\n",
       "</style>\n",
       "<table border=\"1\" class=\"dataframe\">\n",
       "  <thead>\n",
       "    <tr style=\"text-align: right;\">\n",
       "      <th></th>\n",
       "      <th>timestamp</th>\n",
       "      <th>user_id</th>\n",
       "      <th>post_id</th>\n",
       "      <th>action</th>\n",
       "      <th>target</th>\n",
       "    </tr>\n",
       "  </thead>\n",
       "  <tbody>\n",
       "    <tr>\n",
       "      <th>0</th>\n",
       "      <td>2021-12-02 16:33:08</td>\n",
       "      <td>125319</td>\n",
       "      <td>302</td>\n",
       "      <td>view</td>\n",
       "      <td>1</td>\n",
       "    </tr>\n",
       "    <tr>\n",
       "      <th>1</th>\n",
       "      <td>2021-11-20 20:48:08</td>\n",
       "      <td>82334</td>\n",
       "      <td>1074</td>\n",
       "      <td>view</td>\n",
       "      <td>1</td>\n",
       "    </tr>\n",
       "    <tr>\n",
       "      <th>2</th>\n",
       "      <td>2021-11-13 06:21:26</td>\n",
       "      <td>37753</td>\n",
       "      <td>1673</td>\n",
       "      <td>view</td>\n",
       "      <td>1</td>\n",
       "    </tr>\n",
       "    <tr>\n",
       "      <th>3</th>\n",
       "      <td>2021-12-10 19:00:06</td>\n",
       "      <td>32560</td>\n",
       "      <td>950</td>\n",
       "      <td>view</td>\n",
       "      <td>1</td>\n",
       "    </tr>\n",
       "    <tr>\n",
       "      <th>4</th>\n",
       "      <td>2021-11-25 08:23:08</td>\n",
       "      <td>102644</td>\n",
       "      <td>959</td>\n",
       "      <td>view</td>\n",
       "      <td>1</td>\n",
       "    </tr>\n",
       "  </tbody>\n",
       "</table>\n",
       "</div>"
      ],
      "text/plain": [
       "            timestamp  user_id  post_id action  target\n",
       "0 2021-12-02 16:33:08   125319      302   view       1\n",
       "1 2021-11-20 20:48:08    82334     1074   view       1\n",
       "2 2021-11-13 06:21:26    37753     1673   view       1\n",
       "3 2021-12-10 19:00:06    32560      950   view       1\n",
       "4 2021-11-25 08:23:08   102644      959   view       1"
      ]
     },
     "execution_count": 5,
     "metadata": {},
     "output_type": "execute_result"
    }
   ],
   "source": [
    "# И таблицу взаимодействий\n",
    "\n",
    "q1 = \"\"\"\n",
    "SELECT * \n",
    "FROM public.feed_data \n",
    "WHERE target = 1 AND EXTRACT(MONTH FROM timestamp) > 10\n",
    "ORDER BY RANDOM()\n",
    "LIMIT 3000000\n",
    "\"\"\"\n",
    "\n",
    "q2 = \"\"\"\n",
    "SELECT * \n",
    "FROM public.feed_data \n",
    "WHERE target = 0 AND EXTRACT(MONTH FROM timestamp) > 10\n",
    "ORDER BY RANDOM()\n",
    "LIMIT 3000000\n",
    "\"\"\"\n",
    "\n",
    "feed_likes_data = select(q1)\n",
    "feed_views_data = select(q2)\n",
    "feed_data = pd.concat([feed_likes_data, feed_views_data])\n",
    "\n",
    "feed_data.head()"
   ]
  },
  {
   "cell_type": "code",
   "execution_count": 6,
   "id": "33a934e3",
   "metadata": {},
   "outputs": [
    {
     "name": "stdout",
     "output_type": "stream",
     "text": [
      "Начало A\\B-теста: 2021-12-16\n"
     ]
    }
   ],
   "source": [
    "# Высчитаем старт теста\n",
    "\n",
    "ab_duration = datetime.timedelta(days=13)\n",
    "ab_start_date = (feed_data.timestamp.max() - ab_duration).date()\n",
    "\n",
    "print(f'Начало A\\B-теста: {ab_start_date}')"
   ]
  },
  {
   "cell_type": "code",
   "execution_count": 7,
   "id": "fb42976b",
   "metadata": {},
   "outputs": [],
   "source": [
    "# Разделим feed_data на трейн и тест\n",
    "\n",
    "test_data = feed_data[feed_data.timestamp.dt.date >= ab_start_date]\n",
    "feed_data = feed_data[feed_data.timestamp.dt.date < ab_start_date]"
   ]
  },
  {
   "cell_type": "code",
   "execution_count": 8,
   "id": "bb1761eb",
   "metadata": {
    "scrolled": false
   },
   "outputs": [
    {
     "data": {
      "text/plain": [
       "((4555190, 5), (1444810, 5))"
      ]
     },
     "execution_count": 8,
     "metadata": {},
     "output_type": "execute_result"
    }
   ],
   "source": [
    "feed_data.shape, test_data.shape"
   ]
  },
  {
   "cell_type": "markdown",
   "id": "58da061a",
   "metadata": {},
   "source": [
    "##### Получим итоговый датасет для решения задачи"
   ]
  },
  {
   "cell_type": "code",
   "execution_count": 9,
   "id": "53e46196",
   "metadata": {},
   "outputs": [
    {
     "data": {
      "text/html": [
       "<div>\n",
       "<style scoped>\n",
       "    .dataframe tbody tr th:only-of-type {\n",
       "        vertical-align: middle;\n",
       "    }\n",
       "\n",
       "    .dataframe tbody tr th {\n",
       "        vertical-align: top;\n",
       "    }\n",
       "\n",
       "    .dataframe thead th {\n",
       "        text-align: right;\n",
       "    }\n",
       "</style>\n",
       "<table border=\"1\" class=\"dataframe\">\n",
       "  <thead>\n",
       "    <tr style=\"text-align: right;\">\n",
       "      <th></th>\n",
       "      <th>timestamp</th>\n",
       "      <th>user_id</th>\n",
       "      <th>post_id</th>\n",
       "      <th>action</th>\n",
       "      <th>target</th>\n",
       "      <th>gender</th>\n",
       "      <th>age</th>\n",
       "      <th>country</th>\n",
       "      <th>city</th>\n",
       "      <th>exp_group</th>\n",
       "      <th>os</th>\n",
       "      <th>source</th>\n",
       "      <th>text</th>\n",
       "      <th>topic</th>\n",
       "    </tr>\n",
       "  </thead>\n",
       "  <tbody>\n",
       "    <tr>\n",
       "      <th>0</th>\n",
       "      <td>2021-12-02 16:33:08</td>\n",
       "      <td>125319</td>\n",
       "      <td>302</td>\n",
       "      <td>view</td>\n",
       "      <td>1</td>\n",
       "      <td>0</td>\n",
       "      <td>22</td>\n",
       "      <td>Russia</td>\n",
       "      <td>Volgograd</td>\n",
       "      <td>1</td>\n",
       "      <td>Android</td>\n",
       "      <td>organic</td>\n",
       "      <td>Ukraine steel sell-off illegal\\n\\nThe controve...</td>\n",
       "      <td>business</td>\n",
       "    </tr>\n",
       "    <tr>\n",
       "      <th>1</th>\n",
       "      <td>2021-11-09 12:43:49</td>\n",
       "      <td>37753</td>\n",
       "      <td>302</td>\n",
       "      <td>view</td>\n",
       "      <td>0</td>\n",
       "      <td>1</td>\n",
       "      <td>27</td>\n",
       "      <td>Ukraine</td>\n",
       "      <td>Lozova</td>\n",
       "      <td>2</td>\n",
       "      <td>Android</td>\n",
       "      <td>ads</td>\n",
       "      <td>Ukraine steel sell-off illegal\\n\\nThe controve...</td>\n",
       "      <td>business</td>\n",
       "    </tr>\n",
       "    <tr>\n",
       "      <th>2</th>\n",
       "      <td>2021-11-29 16:23:52</td>\n",
       "      <td>58932</td>\n",
       "      <td>302</td>\n",
       "      <td>like</td>\n",
       "      <td>0</td>\n",
       "      <td>0</td>\n",
       "      <td>35</td>\n",
       "      <td>Russia</td>\n",
       "      <td>Moscow</td>\n",
       "      <td>1</td>\n",
       "      <td>Android</td>\n",
       "      <td>ads</td>\n",
       "      <td>Ukraine steel sell-off illegal\\n\\nThe controve...</td>\n",
       "      <td>business</td>\n",
       "    </tr>\n",
       "    <tr>\n",
       "      <th>3</th>\n",
       "      <td>2021-11-10 07:17:43</td>\n",
       "      <td>138043</td>\n",
       "      <td>302</td>\n",
       "      <td>view</td>\n",
       "      <td>0</td>\n",
       "      <td>1</td>\n",
       "      <td>22</td>\n",
       "      <td>Russia</td>\n",
       "      <td>Pskov</td>\n",
       "      <td>0</td>\n",
       "      <td>iOS</td>\n",
       "      <td>organic</td>\n",
       "      <td>Ukraine steel sell-off illegal\\n\\nThe controve...</td>\n",
       "      <td>business</td>\n",
       "    </tr>\n",
       "    <tr>\n",
       "      <th>4</th>\n",
       "      <td>2021-11-28 06:27:53</td>\n",
       "      <td>3635</td>\n",
       "      <td>302</td>\n",
       "      <td>view</td>\n",
       "      <td>1</td>\n",
       "      <td>1</td>\n",
       "      <td>24</td>\n",
       "      <td>Russia</td>\n",
       "      <td>Ulyanovsk</td>\n",
       "      <td>2</td>\n",
       "      <td>Android</td>\n",
       "      <td>ads</td>\n",
       "      <td>Ukraine steel sell-off illegal\\n\\nThe controve...</td>\n",
       "      <td>business</td>\n",
       "    </tr>\n",
       "  </tbody>\n",
       "</table>\n",
       "</div>"
      ],
      "text/plain": [
       "            timestamp  user_id  post_id action  target  gender  age  country  \\\n",
       "0 2021-12-02 16:33:08   125319      302   view       1       0   22   Russia   \n",
       "1 2021-11-09 12:43:49    37753      302   view       0       1   27  Ukraine   \n",
       "2 2021-11-29 16:23:52    58932      302   like       0       0   35   Russia   \n",
       "3 2021-11-10 07:17:43   138043      302   view       0       1   22   Russia   \n",
       "4 2021-11-28 06:27:53     3635      302   view       1       1   24   Russia   \n",
       "\n",
       "        city  exp_group       os   source  \\\n",
       "0  Volgograd          1  Android  organic   \n",
       "1     Lozova          2  Android      ads   \n",
       "2     Moscow          1  Android      ads   \n",
       "3      Pskov          0      iOS  organic   \n",
       "4  Ulyanovsk          2  Android      ads   \n",
       "\n",
       "                                                text     topic  \n",
       "0  Ukraine steel sell-off illegal\\n\\nThe controve...  business  \n",
       "1  Ukraine steel sell-off illegal\\n\\nThe controve...  business  \n",
       "2  Ukraine steel sell-off illegal\\n\\nThe controve...  business  \n",
       "3  Ukraine steel sell-off illegal\\n\\nThe controve...  business  \n",
       "4  Ukraine steel sell-off illegal\\n\\nThe controve...  business  "
      ]
     },
     "execution_count": 9,
     "metadata": {},
     "output_type": "execute_result"
    }
   ],
   "source": [
    "# Смёрджим датафреймы для получения итогового датасета\n",
    "user_data = user_data.rename(columns={'id': 'user_id'})\n",
    "post_data = post_data.rename(columns={'id': 'post_id'})\n",
    "\n",
    "train_data = feed_data.merge(\n",
    "    user_data, on='user_id'\n",
    ").merge(\n",
    "    post_data, on='post_id'\n",
    ")\n",
    "\n",
    "train_data.head()"
   ]
  },
  {
   "cell_type": "code",
   "execution_count": 10,
   "id": "dc838beb",
   "metadata": {},
   "outputs": [
    {
     "data": {
      "text/plain": [
       "(4555190, 14)"
      ]
     },
     "execution_count": 10,
     "metadata": {},
     "output_type": "execute_result"
    }
   ],
   "source": [
    "train_data.shape"
   ]
  },
  {
   "cell_type": "code",
   "execution_count": 11,
   "id": "c8dfd3e3",
   "metadata": {},
   "outputs": [],
   "source": [
    "# Сохраним датасеты для их дальнейшей обработки перед обучением модели\n",
    "\n",
    "post_data.to_csv(CONFIG['data_folder'] + '/post_data.csv', index=False)\n",
    "user_data.to_csv(CONFIG['data_folder'] + '/user_data.csv', index=False)\n",
    "test_data.to_csv(CONFIG['data_folder'] + '/test_data.csv', index=False)\n",
    "train_data.to_csv(CONFIG['datasets_folder'] + '/train_data.csv', index=False)"
   ]
  },
  {
   "cell_type": "code",
   "execution_count": null,
   "id": "64c88024",
   "metadata": {},
   "outputs": [],
   "source": []
  },
  {
   "cell_type": "markdown",
   "id": "d2df5b11",
   "metadata": {},
   "source": [
    "### Тестовые данные"
   ]
  },
  {
   "cell_type": "markdown",
   "id": "1e5fff84",
   "metadata": {},
   "source": [
    "В ходе решения было обнаружено, что нам нужно изменить тестовый датасет:\n",
    "1. Распределение просмотров\\лайков нужно более приближенное к реальности\n",
    "2. Необходимо радикально уменьшить размер датафрейма, тк получение рекомендаций для 1.5кк записей занимает слишком много времени"
   ]
  },
  {
   "cell_type": "code",
   "execution_count": 13,
   "id": "e4384951",
   "metadata": {},
   "outputs": [
    {
     "data": {
      "text/html": [
       "<div>\n",
       "<style scoped>\n",
       "    .dataframe tbody tr th:only-of-type {\n",
       "        vertical-align: middle;\n",
       "    }\n",
       "\n",
       "    .dataframe tbody tr th {\n",
       "        vertical-align: top;\n",
       "    }\n",
       "\n",
       "    .dataframe thead th {\n",
       "        text-align: right;\n",
       "    }\n",
       "</style>\n",
       "<table border=\"1\" class=\"dataframe\">\n",
       "  <thead>\n",
       "    <tr style=\"text-align: right;\">\n",
       "      <th></th>\n",
       "      <th>timestamp</th>\n",
       "      <th>user_id</th>\n",
       "      <th>post_id</th>\n",
       "      <th>action</th>\n",
       "      <th>target</th>\n",
       "    </tr>\n",
       "  </thead>\n",
       "  <tbody>\n",
       "    <tr>\n",
       "      <th>0</th>\n",
       "      <td>2021-12-23 11:15:02</td>\n",
       "      <td>74168</td>\n",
       "      <td>3762</td>\n",
       "      <td>view</td>\n",
       "      <td>0</td>\n",
       "    </tr>\n",
       "    <tr>\n",
       "      <th>1</th>\n",
       "      <td>2021-12-24 17:30:11</td>\n",
       "      <td>161011</td>\n",
       "      <td>1427</td>\n",
       "      <td>view</td>\n",
       "      <td>1</td>\n",
       "    </tr>\n",
       "    <tr>\n",
       "      <th>2</th>\n",
       "      <td>2021-12-26 17:24:23</td>\n",
       "      <td>154745</td>\n",
       "      <td>5026</td>\n",
       "      <td>view</td>\n",
       "      <td>0</td>\n",
       "    </tr>\n",
       "    <tr>\n",
       "      <th>3</th>\n",
       "      <td>2021-12-27 21:20:12</td>\n",
       "      <td>117989</td>\n",
       "      <td>3752</td>\n",
       "      <td>view</td>\n",
       "      <td>0</td>\n",
       "    </tr>\n",
       "    <tr>\n",
       "      <th>4</th>\n",
       "      <td>2021-12-20 13:14:13</td>\n",
       "      <td>160820</td>\n",
       "      <td>5199</td>\n",
       "      <td>view</td>\n",
       "      <td>0</td>\n",
       "    </tr>\n",
       "  </tbody>\n",
       "</table>\n",
       "</div>"
      ],
      "text/plain": [
       "            timestamp  user_id  post_id action  target\n",
       "0 2021-12-23 11:15:02    74168     3762   view       0\n",
       "1 2021-12-24 17:30:11   161011     1427   view       1\n",
       "2 2021-12-26 17:24:23   154745     5026   view       0\n",
       "3 2021-12-27 21:20:12   117989     3752   view       0\n",
       "4 2021-12-20 13:14:13   160820     5199   view       0"
      ]
     },
     "execution_count": 13,
     "metadata": {},
     "output_type": "execute_result"
    }
   ],
   "source": [
    "# Загрузим 250 тысяч записей\n",
    "\n",
    "q = \"\"\"\n",
    "SELECT * \n",
    "FROM public.feed_data \n",
    "WHERE EXTRACT(MONTH FROM timestamp) = 12 AND EXTRACT(DAY FROM timestamp) > 15\n",
    "ORDER BY RANDOM()\n",
    "LIMIT 250000\n",
    "\"\"\"\n",
    "\n",
    "test_data = select(q)\n",
    "test_data.head()"
   ]
  },
  {
   "cell_type": "code",
   "execution_count": 14,
   "id": "b1d6ceca",
   "metadata": {},
   "outputs": [
    {
     "data": {
      "text/plain": [
       "<AxesSubplot:>"
      ]
     },
     "execution_count": 14,
     "metadata": {},
     "output_type": "execute_result"
    },
    {
     "data": {
      "image/png": "[encoded data removed]",
      "text/plain": [
       "<Figure size 432x288 with 1 Axes>"
      ]
     },
     "metadata": {
      "needs_background": "light"
     },
     "output_type": "display_data"
    }
   ],
   "source": [
    "test_data.target.hist()"
   ]
  },
  {
   "cell_type": "code",
   "execution_count": 16,
   "id": "bfac2efb",
   "metadata": {},
   "outputs": [
    {
     "data": {
      "text/plain": [
       "<AxesSubplot:>"
      ]
     },
     "execution_count": 16,
     "metadata": {},
     "output_type": "execute_result"
    },
    {
     "data": {
      "image/png": "[encoded data removed]",
      "text/plain": [
       "<Figure size 432x288 with 1 Axes>"
      ]
     },
     "metadata": {
      "needs_background": "light"
     },
     "output_type": "display_data"
    }
   ],
   "source": [
    "test_data.timestamp.hist(xrot=15)"
   ]
  },
  {
   "cell_type": "code",
   "execution_count": 19,
   "id": "a1c6bcfb",
   "metadata": {},
   "outputs": [],
   "source": [
    "test_data.to_csv(CONFIG['data_folder'] + '/test_data.csv', index=False)"
   ]
  },
  {
   "cell_type": "code",
   "execution_count": null,
   "id": "8eae27e7",
   "metadata": {},
   "outputs": [],
   "source": []
  }
 ],
 "metadata": {
  "kernelspec": {
   "display_name": "Python 3 (ipykernel)",
   "language": "python",
   "name": "python3"
  },
  "language_info": {
   "codemirror_mode": {
    "name": "ipython",
    "version": 3
   },
   "file_extension": ".py",
   "mimetype": "text/x-python",
   "name": "python",
   "nbconvert_exporter": "python",
   "pygments_lexer": "ipython3",
   "version": "3.10.2"
  }
 },
 "nbformat": 4,
 "nbformat_minor": 5
}
