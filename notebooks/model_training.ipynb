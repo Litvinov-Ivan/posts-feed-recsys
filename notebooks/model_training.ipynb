{
 "cells": [
  {
   "cell_type": "code",
   "execution_count": 1,
   "id": "f83a7586",
   "metadata": {},
   "outputs": [],
   "source": [
    "import pandas as pd\n",
    "import numpy as np\n",
    "import catboost as cb\n",
    "import yaml\n",
    "\n",
    "from catboost import CatBoostClassifier\n",
    "from sklearn.metrics import classification_report, roc_auc_score"
   ]
  },
  {
   "cell_type": "code",
   "execution_count": 2,
   "id": "f92f512b",
   "metadata": {},
   "outputs": [],
   "source": [
    "# Прочтём файл конфига с путями\n",
    "\n",
    "CONFIG_PATH = \"config.yaml\"\n",
    "with open(CONFIG_PATH, \"r\", encoding=\"utf-8\") as config_file:\n",
    "    CONFIG = yaml.load(config_file, Loader=yaml.FullLoader)"
   ]
  },
  {
   "cell_type": "code",
   "execution_count": 3,
   "id": "dc68c6fa",
   "metadata": {},
   "outputs": [],
   "source": [
    "# Загрузим обработанный датасет\n",
    "\n",
    "data = pd.read_csv(CONFIG['datasets_folder'] + '/processed_df.csv')\n",
    "\n",
    "columns_order = [\n",
    "    'post_id', 'topic', 'tfidf_sum', \n",
    "    'tfidf_mean', 'tfidf_max', 'user_id',\n",
    "    'gender', 'age', 'country', 'city', \n",
    "    'exp_group', 'os', 'source','month', \n",
    "    'hour', 'day', 'weekday', 'timestamp', 'target'\n",
    "]\n",
    "data = data[columns_order]"
   ]
  },
  {
   "cell_type": "code",
   "execution_count": 4,
   "id": "052c73ec",
   "metadata": {},
   "outputs": [
    {
     "data": {
      "text/html": [
       "<div>\n",
       "<style scoped>\n",
       "    .dataframe tbody tr th:only-of-type {\n",
       "        vertical-align: middle;\n",
       "    }\n",
       "\n",
       "    .dataframe tbody tr th {\n",
       "        vertical-align: top;\n",
       "    }\n",
       "\n",
       "    .dataframe thead th {\n",
       "        text-align: right;\n",
       "    }\n",
       "</style>\n",
       "<table border=\"1\" class=\"dataframe\">\n",
       "  <thead>\n",
       "    <tr style=\"text-align: right;\">\n",
       "      <th></th>\n",
       "      <th>post_id</th>\n",
       "      <th>topic</th>\n",
       "      <th>tfidf_sum</th>\n",
       "      <th>tfidf_mean</th>\n",
       "      <th>tfidf_max</th>\n",
       "      <th>user_id</th>\n",
       "      <th>gender</th>\n",
       "      <th>age</th>\n",
       "      <th>country</th>\n",
       "      <th>city</th>\n",
       "      <th>exp_group</th>\n",
       "      <th>os</th>\n",
       "      <th>source</th>\n",
       "      <th>month</th>\n",
       "      <th>hour</th>\n",
       "      <th>day</th>\n",
       "      <th>weekday</th>\n",
       "      <th>timestamp</th>\n",
       "      <th>target</th>\n",
       "    </tr>\n",
       "  </thead>\n",
       "  <tbody>\n",
       "    <tr>\n",
       "      <th>0</th>\n",
       "      <td>3699</td>\n",
       "      <td>covid</td>\n",
       "      <td>5.503323</td>\n",
       "      <td>0.000004</td>\n",
       "      <td>0.200180</td>\n",
       "      <td>31483</td>\n",
       "      <td>1</td>\n",
       "      <td>24</td>\n",
       "      <td>Russia</td>\n",
       "      <td>Yekaterinburg</td>\n",
       "      <td>1</td>\n",
       "      <td>0</td>\n",
       "      <td>0</td>\n",
       "      <td>11</td>\n",
       "      <td>6</td>\n",
       "      <td>1</td>\n",
       "      <td>0</td>\n",
       "      <td>2021-11-01 06:01:56</td>\n",
       "      <td>1</td>\n",
       "    </tr>\n",
       "    <tr>\n",
       "      <th>1</th>\n",
       "      <td>3648</td>\n",
       "      <td>covid</td>\n",
       "      <td>5.228833</td>\n",
       "      <td>0.000004</td>\n",
       "      <td>0.212564</td>\n",
       "      <td>62188</td>\n",
       "      <td>0</td>\n",
       "      <td>22</td>\n",
       "      <td>Russia</td>\n",
       "      <td>Moscow</td>\n",
       "      <td>2</td>\n",
       "      <td>0</td>\n",
       "      <td>0</td>\n",
       "      <td>11</td>\n",
       "      <td>6</td>\n",
       "      <td>1</td>\n",
       "      <td>0</td>\n",
       "      <td>2021-11-01 06:01:56</td>\n",
       "      <td>1</td>\n",
       "    </tr>\n",
       "    <tr>\n",
       "      <th>2</th>\n",
       "      <td>368</td>\n",
       "      <td>business</td>\n",
       "      <td>19.789338</td>\n",
       "      <td>0.000015</td>\n",
       "      <td>0.233924</td>\n",
       "      <td>89579</td>\n",
       "      <td>0</td>\n",
       "      <td>24</td>\n",
       "      <td>Belarus</td>\n",
       "      <td>Byarozawka</td>\n",
       "      <td>2</td>\n",
       "      <td>1</td>\n",
       "      <td>0</td>\n",
       "      <td>11</td>\n",
       "      <td>6</td>\n",
       "      <td>1</td>\n",
       "      <td>0</td>\n",
       "      <td>2021-11-01 06:01:56</td>\n",
       "      <td>1</td>\n",
       "    </tr>\n",
       "    <tr>\n",
       "      <th>3</th>\n",
       "      <td>6433</td>\n",
       "      <td>movie</td>\n",
       "      <td>6.809850</td>\n",
       "      <td>0.000005</td>\n",
       "      <td>0.162980</td>\n",
       "      <td>4258</td>\n",
       "      <td>1</td>\n",
       "      <td>23</td>\n",
       "      <td>Russia</td>\n",
       "      <td>Verkhnyaya Toyma</td>\n",
       "      <td>4</td>\n",
       "      <td>0</td>\n",
       "      <td>0</td>\n",
       "      <td>11</td>\n",
       "      <td>6</td>\n",
       "      <td>1</td>\n",
       "      <td>0</td>\n",
       "      <td>2021-11-01 06:01:56</td>\n",
       "      <td>1</td>\n",
       "    </tr>\n",
       "    <tr>\n",
       "      <th>4</th>\n",
       "      <td>2982</td>\n",
       "      <td>covid</td>\n",
       "      <td>5.144025</td>\n",
       "      <td>0.000004</td>\n",
       "      <td>0.195852</td>\n",
       "      <td>103627</td>\n",
       "      <td>1</td>\n",
       "      <td>36</td>\n",
       "      <td>Russia</td>\n",
       "      <td>Arshty</td>\n",
       "      <td>2</td>\n",
       "      <td>0</td>\n",
       "      <td>0</td>\n",
       "      <td>11</td>\n",
       "      <td>6</td>\n",
       "      <td>1</td>\n",
       "      <td>0</td>\n",
       "      <td>2021-11-01 06:01:56</td>\n",
       "      <td>1</td>\n",
       "    </tr>\n",
       "  </tbody>\n",
       "</table>\n",
       "</div>"
      ],
      "text/plain": [
       "   post_id     topic  tfidf_sum  tfidf_mean  tfidf_max  user_id  gender  age  \\\n",
       "0     3699     covid   5.503323    0.000004   0.200180    31483       1   24   \n",
       "1     3648     covid   5.228833    0.000004   0.212564    62188       0   22   \n",
       "2      368  business  19.789338    0.000015   0.233924    89579       0   24   \n",
       "3     6433     movie   6.809850    0.000005   0.162980     4258       1   23   \n",
       "4     2982     covid   5.144025    0.000004   0.195852   103627       1   36   \n",
       "\n",
       "   country              city  exp_group  os  source  month  hour  day  \\\n",
       "0   Russia     Yekaterinburg          1   0       0     11     6    1   \n",
       "1   Russia            Moscow          2   0       0     11     6    1   \n",
       "2  Belarus        Byarozawka          2   1       0     11     6    1   \n",
       "3   Russia  Verkhnyaya Toyma          4   0       0     11     6    1   \n",
       "4   Russia            Arshty          2   0       0     11     6    1   \n",
       "\n",
       "   weekday            timestamp  target  \n",
       "0        0  2021-11-01 06:01:56       1  \n",
       "1        0  2021-11-01 06:01:56       1  \n",
       "2        0  2021-11-01 06:01:56       1  \n",
       "3        0  2021-11-01 06:01:56       1  \n",
       "4        0  2021-11-01 06:01:56       1  "
      ]
     },
     "execution_count": 4,
     "metadata": {},
     "output_type": "execute_result"
    }
   ],
   "source": [
    "data.head()"
   ]
  },
  {
   "cell_type": "code",
   "execution_count": 5,
   "id": "5e7ba51c",
   "metadata": {},
   "outputs": [
    {
     "data": {
      "text/plain": [
       "(4555190, 19)"
      ]
     },
     "execution_count": 5,
     "metadata": {},
     "output_type": "execute_result"
    }
   ],
   "source": [
    "data.shape"
   ]
  },
  {
   "cell_type": "code",
   "execution_count": 6,
   "id": "77ad36a9",
   "metadata": {},
   "outputs": [],
   "source": [
    "# Разделим датасет на train и val\n",
    "\n",
    "X = data.drop(['timestamp', 'target', 'user_id', 'post_id'], axis=1)\n",
    "y = data['target']\n",
    "\n",
    "X_train = X.iloc[:-1000000].copy()\n",
    "y_train = y.iloc[:-1000000].copy()\n",
    "\n",
    "X_val = X.iloc[-1000000:].copy()\n",
    "y_val = y.iloc[-1000000:].copy()"
   ]
  },
  {
   "cell_type": "code",
   "execution_count": 7,
   "id": "0aadeb1d",
   "metadata": {},
   "outputs": [
    {
     "data": {
      "application/vnd.jupyter.widget-view+json": {
       "model_id": "8b99fbfe72374b99b4ae360cb5cb8cc2",
       "version_major": 2,
       "version_minor": 0
      },
      "text/plain": [
       "MetricVisualizer(layout=Layout(align_self='stretch', height='500px'))"
      ]
     },
     "metadata": {},
     "output_type": "display_data"
    },
    {
     "data": {
      "text/plain": [
       "<catboost.core.CatBoostClassifier at 0x244f54729e0>"
      ]
     },
     "execution_count": 7,
     "metadata": {},
     "output_type": "execute_result"
    }
   ],
   "source": [
    "# Обучим катбуст\n",
    "\n",
    "cat_features = [\n",
    "    'country', 'city', 'topic', 'gender', \n",
    "    'exp_group', 'os', 'source',\n",
    "    'month', 'hour', 'day', 'weekday'\n",
    "]\n",
    "\n",
    "\n",
    "params = dict(\n",
    "    cat_features=cat_features,\n",
    "    verbose=False,\n",
    "    random_seed=42,\n",
    ")\n",
    "\n",
    "catboost_model = CatBoostClassifier(**params)\n",
    "\n",
    "catboost_model.fit(\n",
    "    X_train, \n",
    "    y_train,\n",
    "    plot=True\n",
    ")"
   ]
  },
  {
   "cell_type": "code",
   "execution_count": 8,
   "id": "e9926401",
   "metadata": {},
   "outputs": [
    {
     "name": "stdout",
     "output_type": "stream",
     "text": [
      "Качество на тесте: 0.602874\n"
     ]
    },
    {
     "data": {
      "text/plain": [
       "{'0': {'precision': 0.6040533197082442,\n",
       "  'recall': 0.565653452921344,\n",
       "  'f1-score': 0.5842230788720421,\n",
       "  'support': 493249},\n",
       " '1': {'precision': 0.6018617115183411,\n",
       "  'recall': 0.6391028335415224,\n",
       "  'f1-score': 0.6199234728546846,\n",
       "  'support': 506751},\n",
       " 'accuracy': 0.602874,\n",
       " 'macro avg': {'precision': 0.6029575156132927,\n",
       "  'recall': 0.6023781432314332,\n",
       "  'f1-score': 0.6020732758633633,\n",
       "  'support': 1000000},\n",
       " 'weighted avg': {'precision': 0.6029427200664026,\n",
       "  'recall': 0.602874,\n",
       "  'f1-score': 0.6023142892231401,\n",
       "  'support': 1000000}}"
      ]
     },
     "execution_count": 8,
     "metadata": {},
     "output_type": "execute_result"
    }
   ],
   "source": [
    "print(f\"Качество на тесте: {catboost_model.score(X_val, y_val)}\")\n",
    "classification_report(y_val, catboost_model.predict(X_val), output_dict=True)"
   ]
  },
  {
   "cell_type": "code",
   "execution_count": 9,
   "id": "4b8fde12",
   "metadata": {},
   "outputs": [
    {
     "name": "stdout",
     "output_type": "stream",
     "text": [
      "Качество на трейне: 0.5849210457749224\n",
      "Качество на вале: 0.6433835276652008\n"
     ]
    }
   ],
   "source": [
    "print(f\"Качество на трейне: {roc_auc_score(y_train, catboost_model.predict_proba(X_train)[:, 1])}\")\n",
    "print(f\"Качество на вале: {roc_auc_score(y_val, catboost_model.predict_proba(X_val)[:, 1])}\")"
   ]
  },
  {
   "cell_type": "markdown",
   "id": "be0c838f",
   "metadata": {},
   "source": [
    "Обучим на полный train"
   ]
  },
  {
   "cell_type": "code",
   "execution_count": 10,
   "id": "f2ce0965",
   "metadata": {},
   "outputs": [
    {
     "data": {
      "application/vnd.jupyter.widget-view+json": {
       "model_id": "de7591785dda4434b459eba29c7a4523",
       "version_major": 2,
       "version_minor": 0
      },
      "text/plain": [
       "MetricVisualizer(layout=Layout(align_self='stretch', height='500px'))"
      ]
     },
     "metadata": {},
     "output_type": "display_data"
    },
    {
     "data": {
      "text/plain": [
       "<catboost.core.CatBoostClassifier at 0x26b6a83be50>"
      ]
     },
     "execution_count": 10,
     "metadata": {},
     "output_type": "execute_result"
    }
   ],
   "source": [
    "cat_features = [\n",
    "    'country', 'city', 'topic', 'gender', \n",
    "    'exp_group', 'os', 'source',\n",
    "    'month', 'hour', 'day', 'weekday'\n",
    "]\n",
    "\n",
    "\n",
    "params = dict(\n",
    "    cat_features=cat_features,\n",
    "    depth=2,\n",
    "    iterations=250,\n",
    "    verbose=False,\n",
    "    random_seed=42,\n",
    ")\n",
    "\n",
    "catboost_model = CatBoostClassifier(**params)\n",
    "\n",
    "catboost_model.fit(\n",
    "    X, \n",
    "    y,\n",
    "    plot=True\n",
    ")"
   ]
  },
  {
   "cell_type": "code",
   "execution_count": 11,
   "id": "6a1a8e44",
   "metadata": {},
   "outputs": [
    {
     "name": "stdout",
     "output_type": "stream",
     "text": [
      "Качество: 0.5985704218704379\n"
     ]
    },
    {
     "data": {
      "text/plain": [
       "{'0': {'precision': 0.6101877254489632,\n",
       "  'recall': 0.5578047997624356,\n",
       "  'f1-score': 0.5828216100097918,\n",
       "  'support': 2289905},\n",
       " '1': {'precision': 0.5886922404825281,\n",
       "  'recall': 0.6397791006429655,\n",
       "  'f1-score': 0.6131734287367956,\n",
       "  'support': 2265285},\n",
       " 'accuracy': 0.5985704218704379,\n",
       " 'macro avg': {'precision': 0.5994399829657456,\n",
       "  'recall': 0.5987919502027006,\n",
       "  'f1-score': 0.5979975193732937,\n",
       "  'support': 4555190},\n",
       " 'weighted avg': {'precision': 0.5994980726217066,\n",
       "  'recall': 0.5985704218704379,\n",
       "  'f1-score': 0.5979154962549321,\n",
       "  'support': 4555190}}"
      ]
     },
     "execution_count": 11,
     "metadata": {},
     "output_type": "execute_result"
    }
   ],
   "source": [
    "print(f\"Качество: {catboost_model.score(X, y)}\")\n",
    "classification_report(y, catboost_model.predict(X), output_dict=True)"
   ]
  },
  {
   "cell_type": "code",
   "execution_count": 12,
   "id": "026e96ec",
   "metadata": {},
   "outputs": [
    {
     "name": "stdout",
     "output_type": "stream",
     "text": [
      "Качество на трейне: 0.6382765788638578\n"
     ]
    }
   ],
   "source": [
    "print(f\"Качество на трейне: {roc_auc_score(y, catboost_model.predict_proba(X)[:, 1])}\")"
   ]
  },
  {
   "cell_type": "code",
   "execution_count": 13,
   "id": "fe2e5bac",
   "metadata": {},
   "outputs": [],
   "source": [
    "catboost_model.save_model(CONFIG['data_folder'] + '/catboost_model', format=\"cbm\")"
   ]
  },
  {
   "cell_type": "code",
   "execution_count": null,
   "id": "ba797ad3",
   "metadata": {},
   "outputs": [],
   "source": []
  }
 ],
 "metadata": {
  "kernelspec": {
   "display_name": "Python 3 (ipykernel)",
   "language": "python",
   "name": "python3"
  },
  "language_info": {
   "codemirror_mode": {
    "name": "ipython",
    "version": 3
   },
   "file_extension": ".py",
   "mimetype": "text/x-python",
   "name": "python",
   "nbconvert_exporter": "python",
   "pygments_lexer": "ipython3",
   "version": "3.10.2"
  }
 },
 "nbformat": 4,
 "nbformat_minor": 5
}
