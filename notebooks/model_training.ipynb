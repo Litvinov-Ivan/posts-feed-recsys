{
 "cells": [
  {
   "cell_type": "code",
   "execution_count": null,
   "id": "f83a7586",
   "metadata": {},
   "outputs": [],
   "source": [
    "import pandas as pd\n",
    "import numpy as np\n",
    "\n",
    "from catboost import CatBoostClassifier\n",
    "from sklearn.utils.class_weight import compute_class_weight\n",
    "from sklearn.metrics import classification_report"
   ]
  },
  {
   "cell_type": "code",
   "execution_count": null,
   "id": "f92f512b",
   "metadata": {},
   "outputs": [],
   "source": [
    "# Прочтём файл конфига с путями\n",
    "\n",
    "CONFIG_PATH = \"config.yaml\"\n",
    "with open(CONFIG_PATH, \"r\", encoding=\"utf-8\") as config_file:\n",
    "    CONFIG = yaml.load(config_file, Loader=yaml.FullLoader)"
   ]
  },
  {
   "cell_type": "code",
   "execution_count": null,
   "id": "dc68c6fa",
   "metadata": {},
   "outputs": [],
   "source": [
    "# Загрузим обработанный датасет\n",
    "\n",
    "data = pd.read_csv(CONFIG['datasets_folder'] + '/processed_df.csv')\n",
    "\n",
    "columns_order = [\n",
    "    'post_id', 'topic', 'tfidf_sum', \n",
    "    'tfidf_mean', 'tfidf_max', 'user_id',\n",
    "    'gender', 'age', 'country', 'city', \n",
    "    'exp_group', 'os', 'source','month', \n",
    "    'hour', 'day', 'weekday', 'timestamp', 'target'\n",
    "]\n",
    "data = data[columns_order]"
   ]
  },
  {
   "cell_type": "code",
   "execution_count": null,
   "id": "052c73ec",
   "metadata": {},
   "outputs": [],
   "source": [
    "data.head()"
   ]
  },
  {
   "cell_type": "code",
   "execution_count": null,
   "id": "77ad36a9",
   "metadata": {},
   "outputs": [],
   "source": [
    "# Разделим датасет на трейн и тест\n",
    "\n",
    "X = data.drop(['timestamp', 'target', 'user_id', 'post_id'], axis=1)\n",
    "y = data['target']\n",
    "\n",
    "X_train = X.iloc[:-712175].copy()\n",
    "y_train = y.iloc[:-712175].copy()\n",
    "\n",
    "X_test = X.iloc[-712175:].copy()\n",
    "y_test = y.iloc[-712175:].copy()"
   ]
  },
  {
   "cell_type": "code",
   "execution_count": null,
   "id": "3b6a7618",
   "metadata": {},
   "outputs": [],
   "source": [
    "# Ввиду дисбаланса классов, найдем их веса\n",
    "\n",
    "classes = np.unique(y_train)\n",
    "weights = compute_class_weight(class_weight='balanced', classes=classes, y=y_train)\n",
    "class_weights = dict(zip(classes, weights))"
   ]
  },
  {
   "cell_type": "code",
   "execution_count": null,
   "id": "cb9728cf",
   "metadata": {},
   "outputs": [],
   "source": [
    "class_weights"
   ]
  },
  {
   "cell_type": "code",
   "execution_count": null,
   "id": "0aadeb1d",
   "metadata": {},
   "outputs": [],
   "source": [
    "# Обучим катбуст\n",
    "\n",
    "categorical_features = ['country', 'city', 'topic']\n",
    "catboost_model = CatBoostClassifier(class_weights=class_weights, cat_features=categorical_features)\n",
    "\n",
    "catboost_model.fit(X_train, y_train)"
   ]
  },
  {
   "cell_type": "code",
   "execution_count": null,
   "id": "e9926401",
   "metadata": {},
   "outputs": [],
   "source": [
    "# Грубо оценим качество обученной модели\n",
    "\n",
    "print(f\"Качество на тесте: {catboost_model.score(X_test, y_test)}\")\n",
    "classification_report(y_test, catboost_model.predict(X_test), output_dict=True)"
   ]
  },
  {
   "cell_type": "code",
   "execution_count": null,
   "id": "fe2e5bac",
   "metadata": {},
   "outputs": [],
   "source": [
    "catboost_model.save_model(CONFIG['datasets_folder'] + '/catboost_model', format=\"cbm\")"
   ]
  },
  {
   "cell_type": "code",
   "execution_count": null,
   "id": "ba797ad3",
   "metadata": {},
   "outputs": [],
   "source": []
  }
 ],
 "metadata": {
  "kernelspec": {
   "display_name": "Python 3 (ipykernel)",
   "language": "python",
   "name": "python3"
  },
  "language_info": {
   "codemirror_mode": {
    "name": "ipython",
    "version": 3
   },
   "file_extension": ".py",
   "mimetype": "text/x-python",
   "name": "python",
   "nbconvert_exporter": "python",
   "pygments_lexer": "ipython3",
   "version": "3.10.7"
  }
 },
 "nbformat": 4,
 "nbformat_minor": 5
}
