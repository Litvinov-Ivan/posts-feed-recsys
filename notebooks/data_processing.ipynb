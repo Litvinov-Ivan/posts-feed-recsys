{
 "cells": [
  {
   "cell_type": "code",
   "execution_count": null,
   "id": "25c2ff35",
   "metadata": {},
   "outputs": [],
   "source": [
    "import pandas as pd\n",
    "import numpy as np\n",
    "import datetime as dt\n",
    "import yaml\n",
    "from sklearn.feature_extraction.text import TfidfVectorizer"
   ]
  },
  {
   "cell_type": "code",
   "execution_count": null,
   "id": "f62a0ef5",
   "metadata": {},
   "outputs": [],
   "source": [
    "# Прочтём файл конфига с путями\n",
    "\n",
    "CONFIG_PATH = \"config.yaml\"\n",
    "with open(CONFIG_PATH, \"r\", encoding=\"utf-8\") as config_file:\n",
    "    CONFIG = yaml.load(config_file, Loader=yaml.FullLoader)"
   ]
  },
  {
   "cell_type": "code",
   "execution_count": null,
   "id": "66e42bd9",
   "metadata": {},
   "outputs": [],
   "source": [
    "# Загрузим необходимые датасеты\n",
    "\n",
    "df = pd.read_csv(CONFIG['datasets_folder'] + '/data.csv')\n",
    "post_df = pd.read_csv(CONFIG['datasets_folder'] + '/post_data.csv').rename(columns={'id': 'post_id'})"
   ]
  },
  {
   "cell_type": "code",
   "execution_count": null,
   "id": "f631ffac",
   "metadata": {},
   "outputs": [],
   "source": [
    "df.head()"
   ]
  },
  {
   "cell_type": "markdown",
   "id": "4cd81baa",
   "metadata": {},
   "source": [
    "##### Обработаем признаки"
   ]
  },
  {
   "cell_type": "code",
   "execution_count": null,
   "id": "0bd78a14",
   "metadata": {},
   "outputs": [],
   "source": [
    "# Временные признаки - выделим из времени совершённого действия месяц, число, день недели и час\n",
    "\n",
    "df[\"timestamp\"] = pd.to_datetime(df[\"timestamp\"])\n",
    "\n",
    "df['month'] = df[\"timestamp\"].dt.month.astype(int)\n",
    "df['hour'] = df[\"timestamp\"].dt.hour.astype(int)\n",
    "df['day'] = df[\"timestamp\"].dt.day.astype(int)\n",
    "df['weekday'] = df[\"timestamp\"].dt.weekday.astype(int)"
   ]
  },
  {
   "cell_type": "code",
   "execution_count": null,
   "id": "4f1622f6",
   "metadata": {},
   "outputs": [],
   "source": [
    "# Приведем некоторые категориальные признаки к бинарному виду\n",
    "\n",
    "df['os'] = df['os'].map({'Android': 0, 'iOS': 1})\n",
    "df['source'] = df['source'].map({'ads': 0, 'organic': 1})"
   ]
  },
  {
   "cell_type": "code",
   "execution_count": null,
   "id": "b041f90f",
   "metadata": {
    "scrolled": true
   },
   "outputs": [],
   "source": [
    "# Уберем колонку с текстом новости, т.к. обработка текста будет вестись через post_data.csv\n",
    "\n",
    "df = df.drop(['text'], axis=1)"
   ]
  },
  {
   "cell_type": "markdown",
   "id": "eaf5fb2a",
   "metadata": {},
   "source": [
    "##### Выделим текстовые признаки"
   ]
  },
  {
   "cell_type": "code",
   "execution_count": null,
   "id": "dae29cb9",
   "metadata": {},
   "outputs": [],
   "source": [
    "post_df = pd.read_csv('../data' + '/post_data.csv').rename(columns={'id': 'post_id'})\n",
    "\n",
    "post_df.head()"
   ]
  },
  {
   "cell_type": "code",
   "execution_count": null,
   "id": "24619fd4",
   "metadata": {},
   "outputs": [],
   "source": [
    "# Уберём символ переноса строки\n",
    "\n",
    "post_df['text'] = post_df['text'].str.replace('\\n',' ')"
   ]
  },
  {
   "cell_type": "code",
   "execution_count": null,
   "id": "05a98ac3",
   "metadata": {},
   "outputs": [],
   "source": [
    "# Найдем tf-idf матрицу нашего корпуса текстов и выделим признаки\n",
    "\n",
    "tfidf = TfidfVectorizer(stop_words='english', ngram_range=(1, 3))\n",
    "tfidf_df_ = tfidf.fit_transform(post_df['text'])"
   ]
  },
  {
   "cell_type": "code",
   "execution_count": null,
   "id": "929bcc78",
   "metadata": {},
   "outputs": [],
   "source": [
    "tfidf_df = []\n",
    "\n",
    "for row in tfidf_df_:\n",
    "    tfidf_df.append([row.sum(), row.mean(), row.max()])"
   ]
  },
  {
   "cell_type": "code",
   "execution_count": null,
   "id": "758517d3",
   "metadata": {},
   "outputs": [],
   "source": [
    "tfidf_df = pd.DataFrame(tfidf_df, index=post_df['post_id'], columns=['tfidf_sum', 'tfidf_mean', 'tfidf_max']).reset_index()"
   ]
  },
  {
   "cell_type": "code",
   "execution_count": null,
   "id": "2a9beccd",
   "metadata": {},
   "outputs": [],
   "source": [
    "tfidf_df.head()"
   ]
  },
  {
   "cell_type": "code",
   "execution_count": null,
   "id": "0bc255ed",
   "metadata": {},
   "outputs": [],
   "source": [
    "# Получим финальный датасет, на котором будем обучать модель и сохраним вместе с tf-idf признаками\n",
    "\n",
    "df = df.merge(tfidf_df, on='post_id')\n",
    "df = df.sort_values(by='timestamp')\n",
    "\n",
    "df.to_csv(CONFIG['datasets_folder'] + '/processed_df.csv', index=False)"
   ]
  },
  {
   "cell_type": "code",
   "execution_count": null,
   "id": "e7807933",
   "metadata": {},
   "outputs": [],
   "source": []
  }
 ],
 "metadata": {
  "kernelspec": {
   "display_name": "Python 3 (ipykernel)",
   "language": "python",
   "name": "python3"
  },
  "language_info": {
   "codemirror_mode": {
    "name": "ipython",
    "version": 3
   },
   "file_extension": ".py",
   "mimetype": "text/x-python",
   "name": "python",
   "nbconvert_exporter": "python",
   "pygments_lexer": "ipython3",
   "version": "3.10.7"
  }
 },
 "nbformat": 4,
 "nbformat_minor": 5
}
