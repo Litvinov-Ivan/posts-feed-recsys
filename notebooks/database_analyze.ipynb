{
 "cells": [
  {
   "cell_type": "code",
   "execution_count": 1,
   "id": "18712685",
   "metadata": {},
   "outputs": [],
   "source": [
    "import pandas as pd\n",
    "import numpy as np\n",
    "from sqlalchemy import create_engine\n",
    "from sqlalchemy.engine import Engine\n",
    "from pathlib import Path\n",
    "import yaml\n",
    "import datetime"
   ]
  },
  {
   "cell_type": "code",
   "execution_count": 2,
   "id": "3666c026",
   "metadata": {},
   "outputs": [],
   "source": [
    "# Настроим подключение к базе данных\n",
    "CONFIG_PATH = \"config.yaml\"\n",
    "with open(CONFIG_PATH, \"r\", encoding=\"utf-8\") as config_file:\n",
    "    CONFIG = yaml.load(config_file, Loader=yaml.FullLoader)\n",
    "\n",
    "CON = create_engine(\n",
    "    CONFIG['database_url']\n",
    ")\n",
    "\n",
    "def select(query: str, con: Engine = CON) -> pd.DataFrame:\n",
    "    \"\"\"\n",
    "    Функция обобщённого sql-запроса к базе данных соцсети, содержащей три таблицы:\n",
    "    1. Данные пользователей user\n",
    "    2. Данные постов post\n",
    "    3. Данные действий пользователей в соцсети feed\n",
    "    \"\"\"\n",
    "    return pd.read_sql(query, con)"
   ]
  },
  {
   "cell_type": "markdown",
   "id": "15d3941f",
   "metadata": {},
   "source": [
    "### Исследуем таблицу пользователей"
   ]
  },
  {
   "cell_type": "code",
   "execution_count": 3,
   "id": "789a8624",
   "metadata": {},
   "outputs": [
    {
     "data": {
      "text/html": [
       "<div>\n",
       "<style scoped>\n",
       "    .dataframe tbody tr th:only-of-type {\n",
       "        vertical-align: middle;\n",
       "    }\n",
       "\n",
       "    .dataframe tbody tr th {\n",
       "        vertical-align: top;\n",
       "    }\n",
       "\n",
       "    .dataframe thead th {\n",
       "        text-align: right;\n",
       "    }\n",
       "</style>\n",
       "<table border=\"1\" class=\"dataframe\">\n",
       "  <thead>\n",
       "    <tr style=\"text-align: right;\">\n",
       "      <th></th>\n",
       "      <th>id</th>\n",
       "      <th>gender</th>\n",
       "      <th>age</th>\n",
       "      <th>country</th>\n",
       "      <th>city</th>\n",
       "      <th>exp_group</th>\n",
       "      <th>os</th>\n",
       "      <th>source</th>\n",
       "    </tr>\n",
       "  </thead>\n",
       "  <tbody>\n",
       "    <tr>\n",
       "      <th>0</th>\n",
       "      <td>200</td>\n",
       "      <td>1</td>\n",
       "      <td>34</td>\n",
       "      <td>Russia</td>\n",
       "      <td>Degtyarsk</td>\n",
       "      <td>3</td>\n",
       "      <td>Android</td>\n",
       "      <td>ads</td>\n",
       "    </tr>\n",
       "    <tr>\n",
       "      <th>1</th>\n",
       "      <td>201</td>\n",
       "      <td>0</td>\n",
       "      <td>37</td>\n",
       "      <td>Russia</td>\n",
       "      <td>Abakan</td>\n",
       "      <td>0</td>\n",
       "      <td>Android</td>\n",
       "      <td>ads</td>\n",
       "    </tr>\n",
       "    <tr>\n",
       "      <th>2</th>\n",
       "      <td>202</td>\n",
       "      <td>1</td>\n",
       "      <td>17</td>\n",
       "      <td>Russia</td>\n",
       "      <td>Smolensk</td>\n",
       "      <td>4</td>\n",
       "      <td>Android</td>\n",
       "      <td>ads</td>\n",
       "    </tr>\n",
       "    <tr>\n",
       "      <th>3</th>\n",
       "      <td>203</td>\n",
       "      <td>0</td>\n",
       "      <td>18</td>\n",
       "      <td>Russia</td>\n",
       "      <td>Moscow</td>\n",
       "      <td>1</td>\n",
       "      <td>iOS</td>\n",
       "      <td>ads</td>\n",
       "    </tr>\n",
       "    <tr>\n",
       "      <th>4</th>\n",
       "      <td>204</td>\n",
       "      <td>0</td>\n",
       "      <td>36</td>\n",
       "      <td>Russia</td>\n",
       "      <td>Anzhero-Sudzhensk</td>\n",
       "      <td>3</td>\n",
       "      <td>Android</td>\n",
       "      <td>ads</td>\n",
       "    </tr>\n",
       "  </tbody>\n",
       "</table>\n",
       "</div>"
      ],
      "text/plain": [
       "    id  gender  age country               city  exp_group       os source\n",
       "0  200       1   34  Russia          Degtyarsk          3  Android    ads\n",
       "1  201       0   37  Russia             Abakan          0  Android    ads\n",
       "2  202       1   17  Russia           Smolensk          4  Android    ads\n",
       "3  203       0   18  Russia             Moscow          1      iOS    ads\n",
       "4  204       0   36  Russia  Anzhero-Sudzhensk          3  Android    ads"
      ]
     },
     "execution_count": 3,
     "metadata": {},
     "output_type": "execute_result"
    }
   ],
   "source": [
    "# Посмотрим таблицу юзеров\n",
    "q = \"\"\"\n",
    "SELECT *\n",
    "FROM public.user\n",
    "\"\"\"\n",
    "\n",
    "user_data = select(q)\n",
    "user_data.head()"
   ]
  },
  {
   "cell_type": "code",
   "execution_count": 4,
   "id": "a16c6c34",
   "metadata": {},
   "outputs": [
    {
     "data": {
      "text/plain": [
       "(163205, 163205)"
      ]
     },
     "execution_count": 4,
     "metadata": {},
     "output_type": "execute_result"
    }
   ],
   "source": [
    "user_data.id.nunique(), user_data.shape[0]"
   ]
  },
  {
   "cell_type": "code",
   "execution_count": 5,
   "id": "70b5af77",
   "metadata": {},
   "outputs": [
    {
     "data": {
      "text/plain": [
       "(200, 168552)"
      ]
     },
     "execution_count": 5,
     "metadata": {},
     "output_type": "execute_result"
    }
   ],
   "source": [
    "user_data.id.min(), user_data.id.max()"
   ]
  },
  {
   "cell_type": "code",
   "execution_count": 6,
   "id": "3fc59fd7",
   "metadata": {},
   "outputs": [
    {
     "name": "stdout",
     "output_type": "stream",
     "text": [
      "<class 'pandas.core.frame.DataFrame'>\n",
      "RangeIndex: 163205 entries, 0 to 163204\n",
      "Data columns (total 8 columns):\n",
      " #   Column     Non-Null Count   Dtype \n",
      "---  ------     --------------   ----- \n",
      " 0   id         163205 non-null  int64 \n",
      " 1   gender     163205 non-null  int64 \n",
      " 2   age        163205 non-null  int64 \n",
      " 3   country    163205 non-null  object\n",
      " 4   city       163205 non-null  object\n",
      " 5   exp_group  163205 non-null  int64 \n",
      " 6   os         163205 non-null  object\n",
      " 7   source     163205 non-null  object\n",
      "dtypes: int64(4), object(4)\n",
      "memory usage: 10.0+ MB\n"
     ]
    }
   ],
   "source": [
    "user_data.info()"
   ]
  },
  {
   "cell_type": "markdown",
   "id": "1760ff43",
   "metadata": {},
   "source": [
    "Получается, что id пользователей принимают значения от 200 до 168552, при этом отсутствует около 5000 id.\n",
    "Для обработки ситуации с передачей в запрос несуществующего id, добавим в сервис следующее."
   ]
  },
  {
   "cell_type": "code",
   "execution_count": 7,
   "id": "52f92025",
   "metadata": {},
   "outputs": [
    {
     "data": {
      "text/plain": [
       "{'gender': 1,\n",
       " 'age': 20,\n",
       " 'country': 'Russia',\n",
       " 'city': 'Moscow',\n",
       " 'exp_group': 3,\n",
       " 'os': 'Android',\n",
       " 'source': 'ads'}"
      ]
     },
     "execution_count": 7,
     "metadata": {},
     "output_type": "execute_result"
    }
   ],
   "source": [
    "# Пусть пришел запрос от пользователя с неизвестным id.\n",
    "# Воспользуемся следующей логикой - показать что-то лучше, чем выдать ошибку и не показать ничего.\n",
    "# Тогда пусть для неизвестных id будет выдаваться лента \"усредненного пользователя\" - \n",
    "# виртуального пользователя с наиболее часто встречающимися признаками\n",
    "\n",
    "mean_user = {\n",
    "    \"gender\": user_data.gender.mode().values[0],\n",
    "    \"age\": user_data.age.mode().values[0],\n",
    "    \"country\": user_data.country.mode().values[0],\n",
    "    \"city\": user_data.city.mode().values[0],\n",
    "    \"exp_group\": user_data.exp_group.mode().values[0],\n",
    "    \"os\": user_data.os.mode().values[0],\n",
    "    \"source\": user_data.source.mode().values[0],\n",
    "}\n",
    "\n",
    "mean_user"
   ]
  },
  {
   "cell_type": "markdown",
   "id": "db1ce9f1",
   "metadata": {},
   "source": [
    "### Теперь таблицу постов\n"
   ]
  },
  {
   "cell_type": "code",
   "execution_count": 8,
   "id": "914d3613",
   "metadata": {},
   "outputs": [
    {
     "data": {
      "text/html": [
       "<div>\n",
       "<style scoped>\n",
       "    .dataframe tbody tr th:only-of-type {\n",
       "        vertical-align: middle;\n",
       "    }\n",
       "\n",
       "    .dataframe tbody tr th {\n",
       "        vertical-align: top;\n",
       "    }\n",
       "\n",
       "    .dataframe thead th {\n",
       "        text-align: right;\n",
       "    }\n",
       "</style>\n",
       "<table border=\"1\" class=\"dataframe\">\n",
       "  <thead>\n",
       "    <tr style=\"text-align: right;\">\n",
       "      <th></th>\n",
       "      <th>id</th>\n",
       "      <th>text</th>\n",
       "      <th>topic</th>\n",
       "    </tr>\n",
       "  </thead>\n",
       "  <tbody>\n",
       "    <tr>\n",
       "      <th>0</th>\n",
       "      <td>1</td>\n",
       "      <td>UK economy facing major risks\\n\\nThe UK manufa...</td>\n",
       "      <td>business</td>\n",
       "    </tr>\n",
       "    <tr>\n",
       "      <th>1</th>\n",
       "      <td>2</td>\n",
       "      <td>Aids and climate top Davos agenda\\n\\nClimate c...</td>\n",
       "      <td>business</td>\n",
       "    </tr>\n",
       "    <tr>\n",
       "      <th>2</th>\n",
       "      <td>3</td>\n",
       "      <td>Asian quake hits European shares\\n\\nShares in ...</td>\n",
       "      <td>business</td>\n",
       "    </tr>\n",
       "    <tr>\n",
       "      <th>3</th>\n",
       "      <td>4</td>\n",
       "      <td>India power shares jump on debut\\n\\nShares in ...</td>\n",
       "      <td>business</td>\n",
       "    </tr>\n",
       "    <tr>\n",
       "      <th>4</th>\n",
       "      <td>5</td>\n",
       "      <td>Lacroix label bought by US firm\\n\\nLuxury good...</td>\n",
       "      <td>business</td>\n",
       "    </tr>\n",
       "  </tbody>\n",
       "</table>\n",
       "</div>"
      ],
      "text/plain": [
       "   id                                               text     topic\n",
       "0   1  UK economy facing major risks\\n\\nThe UK manufa...  business\n",
       "1   2  Aids and climate top Davos agenda\\n\\nClimate c...  business\n",
       "2   3  Asian quake hits European shares\\n\\nShares in ...  business\n",
       "3   4  India power shares jump on debut\\n\\nShares in ...  business\n",
       "4   5  Lacroix label bought by US firm\\n\\nLuxury good...  business"
      ]
     },
     "execution_count": 8,
     "metadata": {},
     "output_type": "execute_result"
    }
   ],
   "source": [
    "q = \"\"\"\n",
    "SELECT *\n",
    "FROM public.post\n",
    "\"\"\"\n",
    "\n",
    "post_data = select(q)\n",
    "post_data.head()"
   ]
  },
  {
   "cell_type": "code",
   "execution_count": 9,
   "id": "5decb130",
   "metadata": {},
   "outputs": [
    {
     "data": {
      "text/plain": [
       "(7023, 7023)"
      ]
     },
     "execution_count": 9,
     "metadata": {},
     "output_type": "execute_result"
    }
   ],
   "source": [
    "post_data.id.nunique(), post_data.shape[0]"
   ]
  },
  {
   "cell_type": "code",
   "execution_count": 10,
   "id": "a7caf0eb",
   "metadata": {},
   "outputs": [
    {
     "data": {
      "text/plain": [
       "(1, 7319)"
      ]
     },
     "execution_count": 10,
     "metadata": {},
     "output_type": "execute_result"
    }
   ],
   "source": [
    "post_data.id.min(), post_data.id.max()"
   ]
  },
  {
   "cell_type": "code",
   "execution_count": 11,
   "id": "311739e5",
   "metadata": {},
   "outputs": [
    {
     "name": "stdout",
     "output_type": "stream",
     "text": [
      "<class 'pandas.core.frame.DataFrame'>\n",
      "RangeIndex: 7023 entries, 0 to 7022\n",
      "Data columns (total 3 columns):\n",
      " #   Column  Non-Null Count  Dtype \n",
      "---  ------  --------------  ----- \n",
      " 0   id      7023 non-null   int64 \n",
      " 1   text    7023 non-null   object\n",
      " 2   topic   7023 non-null   object\n",
      "dtypes: int64(1), object(2)\n",
      "memory usage: 164.7+ KB\n"
     ]
    }
   ],
   "source": [
    "post_data.info()"
   ]
  },
  {
   "cell_type": "markdown",
   "id": "77c4d9c5",
   "metadata": {},
   "source": [
    "Пропусков нет"
   ]
  },
  {
   "cell_type": "markdown",
   "id": "6d51b177",
   "metadata": {},
   "source": [
    "### Таблица взаимодействия"
   ]
  },
  {
   "cell_type": "code",
   "execution_count": 12,
   "id": "d1560f59",
   "metadata": {},
   "outputs": [
    {
     "data": {
      "text/html": [
       "<div>\n",
       "<style scoped>\n",
       "    .dataframe tbody tr th:only-of-type {\n",
       "        vertical-align: middle;\n",
       "    }\n",
       "\n",
       "    .dataframe tbody tr th {\n",
       "        vertical-align: top;\n",
       "    }\n",
       "\n",
       "    .dataframe thead th {\n",
       "        text-align: right;\n",
       "    }\n",
       "</style>\n",
       "<table border=\"1\" class=\"dataframe\">\n",
       "  <thead>\n",
       "    <tr style=\"text-align: right;\">\n",
       "      <th></th>\n",
       "      <th>count</th>\n",
       "    </tr>\n",
       "  </thead>\n",
       "  <tbody>\n",
       "    <tr>\n",
       "      <th>0</th>\n",
       "      <td>76892800</td>\n",
       "    </tr>\n",
       "  </tbody>\n",
       "</table>\n",
       "</div>"
      ],
      "text/plain": [
       "      count\n",
       "0  76892800"
      ]
     },
     "execution_count": 12,
     "metadata": {},
     "output_type": "execute_result"
    }
   ],
   "source": [
    "# Наконец посмотрим на таблицу взаимодействия пользователей и постов в соцсети\n",
    "q = \"\"\"\n",
    "SELECT count(*)\n",
    "FROM public.feed_data\n",
    "\"\"\"\n",
    "\n",
    "count_feed_data = select(q)\n",
    "count_feed_data.head()"
   ]
  },
  {
   "cell_type": "code",
   "execution_count": 13,
   "id": "0d4e576e",
   "metadata": {},
   "outputs": [
    {
     "data": {
      "text/html": [
       "<div>\n",
       "<style scoped>\n",
       "    .dataframe tbody tr th:only-of-type {\n",
       "        vertical-align: middle;\n",
       "    }\n",
       "\n",
       "    .dataframe tbody tr th {\n",
       "        vertical-align: top;\n",
       "    }\n",
       "\n",
       "    .dataframe thead th {\n",
       "        text-align: right;\n",
       "    }\n",
       "</style>\n",
       "<table border=\"1\" class=\"dataframe\">\n",
       "  <thead>\n",
       "    <tr style=\"text-align: right;\">\n",
       "      <th></th>\n",
       "      <th>min</th>\n",
       "      <th>max</th>\n",
       "    </tr>\n",
       "  </thead>\n",
       "  <tbody>\n",
       "    <tr>\n",
       "      <th>0</th>\n",
       "      <td>2021-10-01 06:01:40</td>\n",
       "      <td>2021-12-29 23:51:06</td>\n",
       "    </tr>\n",
       "  </tbody>\n",
       "</table>\n",
       "</div>"
      ],
      "text/plain": [
       "                  min                 max\n",
       "0 2021-10-01 06:01:40 2021-12-29 23:51:06"
      ]
     },
     "execution_count": 13,
     "metadata": {},
     "output_type": "execute_result"
    }
   ],
   "source": [
    "# Как видно, в таблице 77 миллионов записей, что превышает наши вычислительные возможности.\n",
    "# Посмотрим временные рамки всего доступного датасета\n",
    "q = \"\"\"\n",
    "SELECT MIN(timestamp), MAX(timestamp)\n",
    "FROM public.feed_data\n",
    "\"\"\"\n",
    "\n",
    "timestamp_limits = select(q)\n",
    "timestamp_limits"
   ]
  },
  {
   "cell_type": "code",
   "execution_count": 14,
   "id": "304329fa",
   "metadata": {},
   "outputs": [
    {
     "data": {
      "text/html": [
       "<div>\n",
       "<style scoped>\n",
       "    .dataframe tbody tr th:only-of-type {\n",
       "        vertical-align: middle;\n",
       "    }\n",
       "\n",
       "    .dataframe tbody tr th {\n",
       "        vertical-align: top;\n",
       "    }\n",
       "\n",
       "    .dataframe thead th {\n",
       "        text-align: right;\n",
       "    }\n",
       "</style>\n",
       "<table border=\"1\" class=\"dataframe\">\n",
       "  <thead>\n",
       "    <tr style=\"text-align: right;\">\n",
       "      <th></th>\n",
       "      <th>timestamp</th>\n",
       "      <th>user_id</th>\n",
       "      <th>post_id</th>\n",
       "      <th>target</th>\n",
       "    </tr>\n",
       "  </thead>\n",
       "  <tbody>\n",
       "    <tr>\n",
       "      <th>0</th>\n",
       "      <td>2021-12-29 15:24:59</td>\n",
       "      <td>200</td>\n",
       "      <td>1773</td>\n",
       "      <td>0</td>\n",
       "    </tr>\n",
       "    <tr>\n",
       "      <th>1</th>\n",
       "      <td>2021-12-29 15:24:31</td>\n",
       "      <td>200</td>\n",
       "      <td>2213</td>\n",
       "      <td>1</td>\n",
       "    </tr>\n",
       "    <tr>\n",
       "      <th>2</th>\n",
       "      <td>2021-12-29 15:23:54</td>\n",
       "      <td>200</td>\n",
       "      <td>1122</td>\n",
       "      <td>0</td>\n",
       "    </tr>\n",
       "    <tr>\n",
       "      <th>3</th>\n",
       "      <td>2021-12-29 15:23:29</td>\n",
       "      <td>200</td>\n",
       "      <td>1362</td>\n",
       "      <td>0</td>\n",
       "    </tr>\n",
       "    <tr>\n",
       "      <th>4</th>\n",
       "      <td>2021-12-29 15:21:53</td>\n",
       "      <td>200</td>\n",
       "      <td>1541</td>\n",
       "      <td>0</td>\n",
       "    </tr>\n",
       "  </tbody>\n",
       "</table>\n",
       "</div>"
      ],
      "text/plain": [
       "            timestamp  user_id  post_id  target\n",
       "0 2021-12-29 15:24:59      200     1773       0\n",
       "1 2021-12-29 15:24:31      200     2213       1\n",
       "2 2021-12-29 15:23:54      200     1122       0\n",
       "3 2021-12-29 15:23:29      200     1362       0\n",
       "4 2021-12-29 15:21:53      200     1541       0"
      ]
     },
     "execution_count": 14,
     "metadata": {},
     "output_type": "execute_result"
    }
   ],
   "source": [
    "# Отсортируем и пронумеруем все действия юзеров с помощью оконной функции\n",
    "# и отфильтруем ранние действия юзеров и будем рассматривать только не позднее 35го по счету.\n",
    "q = \"\"\"\n",
    "WITH q1 (timestamp, user_id, post_id, action, target, num) AS \n",
    "(\n",
    "    SELECT timestamp, user_id, post_id, action, target, ROW_NUMBER() OVER (PARTITION BY user_id ORDER BY timestamp DESC) AS num\n",
    "    FROM public.feed_data\n",
    "    WHERE action = 'view'\n",
    ")\n",
    "SELECT timestamp, user_id, post_id, target\n",
    "FROM q1\n",
    "WHERE num <= 75\n",
    "\"\"\"\n",
    "\n",
    "feed_data = select(q)\n",
    "feed_data.head()"
   ]
  },
  {
   "cell_type": "code",
   "execution_count": 15,
   "id": "88252da9",
   "metadata": {},
   "outputs": [
    {
     "data": {
      "text/html": [
       "<div>\n",
       "<style scoped>\n",
       "    .dataframe tbody tr th:only-of-type {\n",
       "        vertical-align: middle;\n",
       "    }\n",
       "\n",
       "    .dataframe tbody tr th {\n",
       "        vertical-align: top;\n",
       "    }\n",
       "\n",
       "    .dataframe thead th {\n",
       "        text-align: right;\n",
       "    }\n",
       "</style>\n",
       "<table border=\"1\" class=\"dataframe\">\n",
       "  <thead>\n",
       "    <tr style=\"text-align: right;\">\n",
       "      <th></th>\n",
       "      <th>user_id</th>\n",
       "      <th>post_id</th>\n",
       "      <th>target</th>\n",
       "    </tr>\n",
       "  </thead>\n",
       "  <tbody>\n",
       "    <tr>\n",
       "      <th>count</th>\n",
       "      <td>1.224038e+07</td>\n",
       "      <td>1.224038e+07</td>\n",
       "      <td>1.224038e+07</td>\n",
       "    </tr>\n",
       "    <tr>\n",
       "      <th>mean</th>\n",
       "      <td>8.507037e+04</td>\n",
       "      <td>3.392044e+03</td>\n",
       "      <td>1.282881e-01</td>\n",
       "    </tr>\n",
       "    <tr>\n",
       "      <th>std</th>\n",
       "      <td>4.897149e+04</td>\n",
       "      <td>2.093749e+03</td>\n",
       "      <td>3.344104e-01</td>\n",
       "    </tr>\n",
       "    <tr>\n",
       "      <th>min</th>\n",
       "      <td>2.000000e+02</td>\n",
       "      <td>1.000000e+00</td>\n",
       "      <td>0.000000e+00</td>\n",
       "    </tr>\n",
       "    <tr>\n",
       "      <th>25%</th>\n",
       "      <td>4.103000e+04</td>\n",
       "      <td>1.525000e+03</td>\n",
       "      <td>0.000000e+00</td>\n",
       "    </tr>\n",
       "    <tr>\n",
       "      <th>50%</th>\n",
       "      <td>8.551100e+04</td>\n",
       "      <td>3.180000e+03</td>\n",
       "      <td>0.000000e+00</td>\n",
       "    </tr>\n",
       "    <tr>\n",
       "      <th>75%</th>\n",
       "      <td>1.277330e+05</td>\n",
       "      <td>5.199000e+03</td>\n",
       "      <td>0.000000e+00</td>\n",
       "    </tr>\n",
       "    <tr>\n",
       "      <th>max</th>\n",
       "      <td>1.685520e+05</td>\n",
       "      <td>7.319000e+03</td>\n",
       "      <td>1.000000e+00</td>\n",
       "    </tr>\n",
       "  </tbody>\n",
       "</table>\n",
       "</div>"
      ],
      "text/plain": [
       "            user_id       post_id        target\n",
       "count  1.224038e+07  1.224038e+07  1.224038e+07\n",
       "mean   8.507037e+04  3.392044e+03  1.282881e-01\n",
       "std    4.897149e+04  2.093749e+03  3.344104e-01\n",
       "min    2.000000e+02  1.000000e+00  0.000000e+00\n",
       "25%    4.103000e+04  1.525000e+03  0.000000e+00\n",
       "50%    8.551100e+04  3.180000e+03  0.000000e+00\n",
       "75%    1.277330e+05  5.199000e+03  0.000000e+00\n",
       "max    1.685520e+05  7.319000e+03  1.000000e+00"
      ]
     },
     "execution_count": 15,
     "metadata": {},
     "output_type": "execute_result"
    }
   ],
   "source": [
    "feed_data.describe()"
   ]
  },
  {
   "cell_type": "code",
   "execution_count": 16,
   "id": "370dabf2",
   "metadata": {},
   "outputs": [
    {
     "name": "stdout",
     "output_type": "stream",
     "text": [
      "<class 'pandas.core.frame.DataFrame'>\n",
      "RangeIndex: 12240375 entries, 0 to 12240374\n",
      "Data columns (total 4 columns):\n",
      " #   Column     Dtype         \n",
      "---  ------     -----         \n",
      " 0   timestamp  datetime64[ns]\n",
      " 1   user_id    int64         \n",
      " 2   post_id    int64         \n",
      " 3   target     int64         \n",
      "dtypes: datetime64[ns](1), int64(3)\n",
      "memory usage: 373.5 MB\n"
     ]
    }
   ],
   "source": [
    "feed_data.info()"
   ]
  },
  {
   "cell_type": "code",
   "execution_count": 17,
   "id": "8d1778ae",
   "metadata": {},
   "outputs": [
    {
     "data": {
      "text/plain": [
       "(Timestamp('2021-10-07 17:53:47'), Timestamp('2021-12-29 23:51:06'))"
      ]
     },
     "execution_count": 17,
     "metadata": {},
     "output_type": "execute_result"
    }
   ],
   "source": [
    "feed_data.timestamp.min(), feed_data.timestamp.max()"
   ]
  },
  {
   "cell_type": "code",
   "execution_count": 18,
   "id": "cdd32759",
   "metadata": {},
   "outputs": [
    {
     "data": {
      "text/plain": [
       "timestamp    0\n",
       "user_id      0\n",
       "post_id      0\n",
       "target       0\n",
       "dtype: int64"
      ]
     },
     "execution_count": 18,
     "metadata": {},
     "output_type": "execute_result"
    }
   ],
   "source": [
    "feed_data.isna().sum()"
   ]
  },
  {
   "cell_type": "code",
   "execution_count": 19,
   "id": "378d9ccc",
   "metadata": {},
   "outputs": [
    {
     "data": {
      "text/plain": [
       "timestamp    437766\n",
       "user_id      163205\n",
       "post_id        6831\n",
       "target            2\n",
       "dtype: int64"
      ]
     },
     "execution_count": 19,
     "metadata": {},
     "output_type": "execute_result"
    }
   ],
   "source": [
    "feed_data.nunique()"
   ]
  },
  {
   "cell_type": "code",
   "execution_count": 20,
   "id": "ef99465d",
   "metadata": {},
   "outputs": [
    {
     "data": {
      "text/plain": [
       "(12240375, 4)"
      ]
     },
     "execution_count": 20,
     "metadata": {},
     "output_type": "execute_result"
    }
   ],
   "source": [
    "feed_data.shape"
   ]
  },
  {
   "cell_type": "markdown",
   "id": "4c29d33a",
   "metadata": {},
   "source": [
    "Всего база данных включает в себя логи за 2 месяца - с 22.10.2021 по 29.12.2021\n",
    "\n",
    "Посмотрим на размеры выгруженного датасета, если последние две недели отсечем для проведения синтетического A\\B теста"
   ]
  },
  {
   "cell_type": "code",
   "execution_count": 21,
   "id": "c8dc3045",
   "metadata": {},
   "outputs": [
    {
     "data": {
      "text/plain": [
       "(6581750, 4)"
      ]
     },
     "execution_count": 21,
     "metadata": {},
     "output_type": "execute_result"
    }
   ],
   "source": [
    "max_date = feed_data.timestamp.max()\n",
    "feed_data[(max_date - feed_data.timestamp).dt.days > 7 ].shape"
   ]
  },
  {
   "cell_type": "code",
   "execution_count": 22,
   "id": "445da3b0",
   "metadata": {},
   "outputs": [
    {
     "data": {
      "text/plain": [
       "0.12828814476680658"
      ]
     },
     "execution_count": 22,
     "metadata": {},
     "output_type": "execute_result"
    }
   ],
   "source": [
    "# Посмотрим на отношение таргета к просмотрам\n",
    "\n",
    "feed_data.target.mean()"
   ]
  },
  {
   "cell_type": "code",
   "execution_count": 23,
   "id": "c40fae0d",
   "metadata": {},
   "outputs": [
    {
     "data": {
      "text/plain": [
       "<AxesSubplot:>"
      ]
     },
     "execution_count": 23,
     "metadata": {},
     "output_type": "execute_result"
    },
    {
     "data": {
      "image/png": "[encoded data removed]",
      "text/plain": [
       "<Figure size 432x288 with 1 Axes>"
      ]
     },
     "metadata": {
      "needs_background": "light"
     },
     "output_type": "display_data"
    }
   ],
   "source": [
    "feed_data.timestamp.dt.date.hist()"
   ]
  },
  {
   "cell_type": "markdown",
   "id": "e21845af",
   "metadata": {},
   "source": [
    "Явный скос распределения возможно даст эффект для нашей задачи - модели будут иметь большее знание о последних днях, чем о паттернах поведения пользователей в целом.\n",
    "\n",
    "Попробуем выгрузить данные равномерно, рискнув потерять данные о действиях каких-нибудь юзеров."
   ]
  },
  {
   "cell_type": "code",
   "execution_count": 24,
   "id": "5e277a48",
   "metadata": {},
   "outputs": [
    {
     "name": "stdout",
     "output_type": "stream",
     "text": [
      "Всего в базе данных записей за последние: 89\n"
     ]
    }
   ],
   "source": [
    "total_days_observed = (timestamp_limits['max'] - timestamp_limits['min']).dt.days.values[0]\n",
    "print(f'Всего в базе данных записей за последние: {total_days_observed}')"
   ]
  },
  {
   "cell_type": "markdown",
   "id": "ce93c78d",
   "metadata": {},
   "source": [
    "Машина, на которой планируется обучать модели выдерживает датасет около 6 миллионов строк.\n",
    "Оценим \"плотность взаимодействия\" пользователей в нашей базе данных и максимально допустимую для расчетов."
   ]
  },
  {
   "cell_type": "code",
   "execution_count": 25,
   "id": "9674882a",
   "metadata": {},
   "outputs": [
    {
     "name": "stdout",
     "output_type": "stream",
     "text": [
      "Плотность взаимодействия в базе данных\n",
      "865168 действий в день\n",
      "36048 действий в час\n"
     ]
    }
   ],
   "source": [
    "feed_base_total = 77000000\n",
    "\n",
    "print(f\"Плотность взаимодействия в базе данных\")\n",
    "print(f\"{feed_base_total // total_days_observed} действий в день\")\n",
    "print(f\"{feed_base_total // (total_days_observed * 24)} действий в час\")"
   ]
  },
  {
   "cell_type": "markdown",
   "id": "2edcda5b",
   "metadata": {},
   "source": [
    "Пусть для проведения синтетического A\\B-теста, нам необходимо иметь данные хотя бы две недели.\n",
    "Исходя из этого и ограничения на размер датасета оценим \"плотность\"."
   ]
  },
  {
   "cell_type": "code",
   "execution_count": 26,
   "id": "e7d0e0bc",
   "metadata": {},
   "outputs": [
    {
     "name": "stdout",
     "output_type": "stream",
     "text": [
      "Максимальная плотность взаимодействия для train\n",
      "80000 действий в день\n",
      "3333 действий в час\n"
     ]
    }
   ],
   "source": [
    "days_for_ab = 14\n",
    "days_for_learn = total_days_observed - days_for_ab\n",
    "max_dataset = 6000000\n",
    "\n",
    "print(f\"Максимальная плотность взаимодействия для train\")\n",
    "print(f\"{max_dataset // days_for_learn} действий в день\")\n",
    "print(f\"{max_dataset // (days_for_learn * 24)} действий в час\")"
   ]
  },
  {
   "cell_type": "markdown",
   "id": "53a34c88",
   "metadata": {},
   "source": [
    "Попробуем получить такое распределение."
   ]
  },
  {
   "cell_type": "code",
   "execution_count": 27,
   "id": "26ade5d5",
   "metadata": {},
   "outputs": [
    {
     "data": {
      "text/html": [
       "<div>\n",
       "<style scoped>\n",
       "    .dataframe tbody tr th:only-of-type {\n",
       "        vertical-align: middle;\n",
       "    }\n",
       "\n",
       "    .dataframe tbody tr th {\n",
       "        vertical-align: top;\n",
       "    }\n",
       "\n",
       "    .dataframe thead th {\n",
       "        text-align: right;\n",
       "    }\n",
       "</style>\n",
       "<table border=\"1\" class=\"dataframe\">\n",
       "  <thead>\n",
       "    <tr style=\"text-align: right;\">\n",
       "      <th></th>\n",
       "      <th>timestamp</th>\n",
       "      <th>user_id</th>\n",
       "      <th>post_id</th>\n",
       "      <th>action</th>\n",
       "      <th>target</th>\n",
       "    </tr>\n",
       "  </thead>\n",
       "  <tbody>\n",
       "    <tr>\n",
       "      <th>0</th>\n",
       "      <td>2021-10-27 17:59:33</td>\n",
       "      <td>78312</td>\n",
       "      <td>825</td>\n",
       "      <td>view</td>\n",
       "      <td>0</td>\n",
       "    </tr>\n",
       "    <tr>\n",
       "      <th>1</th>\n",
       "      <td>2021-12-13 19:03:12</td>\n",
       "      <td>167072</td>\n",
       "      <td>1254</td>\n",
       "      <td>view</td>\n",
       "      <td>0</td>\n",
       "    </tr>\n",
       "    <tr>\n",
       "      <th>2</th>\n",
       "      <td>2021-11-25 16:07:42</td>\n",
       "      <td>67923</td>\n",
       "      <td>6078</td>\n",
       "      <td>view</td>\n",
       "      <td>0</td>\n",
       "    </tr>\n",
       "    <tr>\n",
       "      <th>3</th>\n",
       "      <td>2021-12-08 14:24:08</td>\n",
       "      <td>136584</td>\n",
       "      <td>7214</td>\n",
       "      <td>like</td>\n",
       "      <td>0</td>\n",
       "    </tr>\n",
       "    <tr>\n",
       "      <th>4</th>\n",
       "      <td>2021-12-10 18:44:45</td>\n",
       "      <td>13846</td>\n",
       "      <td>2799</td>\n",
       "      <td>view</td>\n",
       "      <td>0</td>\n",
       "    </tr>\n",
       "  </tbody>\n",
       "</table>\n",
       "</div>"
      ],
      "text/plain": [
       "            timestamp  user_id  post_id action  target\n",
       "0 2021-10-27 17:59:33    78312      825   view       0\n",
       "1 2021-12-13 19:03:12   167072     1254   view       0\n",
       "2 2021-11-25 16:07:42    67923     6078   view       0\n",
       "3 2021-12-08 14:24:08   136584     7214   like       0\n",
       "4 2021-12-10 18:44:45    13846     2799   view       0"
      ]
     },
     "execution_count": 27,
     "metadata": {},
     "output_type": "execute_result"
    }
   ],
   "source": [
    "# Сперва рандомным семплрованием из таблицы feed_data\n",
    "\n",
    "q = \"\"\"\n",
    "SELECT * \n",
    "FROM public.feed_data \n",
    "ORDER BY RANDOM()\n",
    "LIMIT 6000000\n",
    "\"\"\"\n",
    "\n",
    "feed_data = select(q)\n",
    "feed_data.head()"
   ]
  },
  {
   "cell_type": "code",
   "execution_count": 28,
   "id": "bbb1b585",
   "metadata": {},
   "outputs": [
    {
     "data": {
      "text/plain": [
       "timestamp    2210281\n",
       "user_id       163205\n",
       "post_id         6831\n",
       "action             2\n",
       "target             2\n",
       "dtype: int64"
      ]
     },
     "execution_count": 28,
     "metadata": {},
     "output_type": "execute_result"
    }
   ],
   "source": [
    "# Проверим разнообразие по попавшим в датасет пользователям\n",
    "feed_data.nunique()"
   ]
  },
  {
   "cell_type": "code",
   "execution_count": 29,
   "id": "b8829866",
   "metadata": {},
   "outputs": [
    {
     "data": {
      "text/plain": [
       "<AxesSubplot:>"
      ]
     },
     "execution_count": 29,
     "metadata": {},
     "output_type": "execute_result"
    },
    {
     "data": {
      "image/png": "[encoded data removed]",
      "text/plain": [
       "<Figure size 432x288 with 1 Axes>"
      ]
     },
     "metadata": {
      "needs_background": "light"
     },
     "output_type": "display_data"
    }
   ],
   "source": [
    "# Посмотрим на распределение по датам\n",
    "feed_data.timestamp.dt.date.hist()"
   ]
  },
  {
   "cell_type": "code",
   "execution_count": 30,
   "id": "7b1f9054",
   "metadata": {},
   "outputs": [
    {
     "data": {
      "text/plain": [
       "0.10688683333333333"
      ]
     },
     "execution_count": 30,
     "metadata": {},
     "output_type": "execute_result"
    }
   ],
   "source": [
    "# Посмотрим на распределение по таргету\n",
    "feed_data.target.mean()"
   ]
  },
  {
   "cell_type": "markdown",
   "id": "5626da53",
   "metadata": {},
   "source": [
    "Распределение получилось равномерным, при этом есть действия всех пользователей.\n",
    "Соотношение количества лайков к просмотрам упало на 20%, будем считать это несущественным снижением."
   ]
  },
  {
   "cell_type": "code",
   "execution_count": 31,
   "id": "c8175316",
   "metadata": {},
   "outputs": [
    {
     "data": {
      "text/html": [
       "<div>\n",
       "<style scoped>\n",
       "    .dataframe tbody tr th:only-of-type {\n",
       "        vertical-align: middle;\n",
       "    }\n",
       "\n",
       "    .dataframe tbody tr th {\n",
       "        vertical-align: top;\n",
       "    }\n",
       "\n",
       "    .dataframe thead th {\n",
       "        text-align: right;\n",
       "    }\n",
       "</style>\n",
       "<table border=\"1\" class=\"dataframe\">\n",
       "  <thead>\n",
       "    <tr style=\"text-align: right;\">\n",
       "      <th></th>\n",
       "      <th>count</th>\n",
       "    </tr>\n",
       "  </thead>\n",
       "  <tbody>\n",
       "    <tr>\n",
       "      <th>0</th>\n",
       "      <td>8206345</td>\n",
       "    </tr>\n",
       "  </tbody>\n",
       "</table>\n",
       "</div>"
      ],
      "text/plain": [
       "     count\n",
       "0  8206345"
      ]
     },
     "execution_count": 31,
     "metadata": {},
     "output_type": "execute_result"
    }
   ],
   "source": [
    "# Попробуем посмотреть сколько в базе данных всего лайков\n",
    "\n",
    "q = \"\"\"\n",
    "SELECT COUNT(*)\n",
    "FROM public.feed_data \n",
    "WHERE target = 1\n",
    "\"\"\"\n",
    "\n",
    "likes_only = select(q)\n",
    "likes_only.head()"
   ]
  },
  {
   "cell_type": "code",
   "execution_count": 33,
   "id": "077adefc",
   "metadata": {},
   "outputs": [
    {
     "data": {
      "text/plain": [
       "<AxesSubplot:>"
      ]
     },
     "execution_count": 33,
     "metadata": {},
     "output_type": "execute_result"
    },
    {
     "data": {
      "image/png": "[encoded data removed]",
      "text/plain": [
       "<Figure size 432x288 with 1 Axes>"
      ]
     },
     "metadata": {
      "needs_background": "light"
     },
     "output_type": "display_data"
    }
   ],
   "source": [
    "q = \"\"\"\n",
    "SELECT *\n",
    "FROM public.feed_data \n",
    "WHERE target = 1\n",
    "\"\"\"\n",
    "\n",
    "likes_only = select(q)\n",
    "likes_only.timestamp.dt.date.hist(xrot=15)"
   ]
  },
  {
   "cell_type": "markdown",
   "id": "d9d40367",
   "metadata": {},
   "source": [
    "## Итого\n",
    "\n",
    "Попробуем выгрузить 6кк записей, начиная с ноября - когда виден явный рост по лайкам.\n",
    "При этом постараемся получить сбалансированный по таргету датасет - соотношение лайков к просмотрам примерно 1:1."
   ]
  },
  {
   "cell_type": "code",
   "execution_count": 34,
   "id": "861e4311",
   "metadata": {},
   "outputs": [
    {
     "name": "stdout",
     "output_type": "stream",
     "text": [
      "Начало A\\B-теста: 2021-12-16\n"
     ]
    }
   ],
   "source": [
    "# Высчитаем старт теста\n",
    "\n",
    "ab_duration = datetime.timedelta(days=13)\n",
    "ab_start_date = (timestamp_limits['max'].dt.date - ab_duration).values[0]\n",
    "\n",
    "print(f'Начало A\\B-теста: {ab_start_date}')"
   ]
  },
  {
   "cell_type": "code",
   "execution_count": 35,
   "id": "b7ba96db",
   "metadata": {},
   "outputs": [
    {
     "data": {
      "text/html": [
       "<div>\n",
       "<style scoped>\n",
       "    .dataframe tbody tr th:only-of-type {\n",
       "        vertical-align: middle;\n",
       "    }\n",
       "\n",
       "    .dataframe tbody tr th {\n",
       "        vertical-align: top;\n",
       "    }\n",
       "\n",
       "    .dataframe thead th {\n",
       "        text-align: right;\n",
       "    }\n",
       "</style>\n",
       "<table border=\"1\" class=\"dataframe\">\n",
       "  <thead>\n",
       "    <tr style=\"text-align: right;\">\n",
       "      <th></th>\n",
       "      <th>timestamp</th>\n",
       "      <th>user_id</th>\n",
       "      <th>post_id</th>\n",
       "      <th>action</th>\n",
       "      <th>target</th>\n",
       "    </tr>\n",
       "  </thead>\n",
       "  <tbody>\n",
       "    <tr>\n",
       "      <th>0</th>\n",
       "      <td>2021-11-11 20:37:36</td>\n",
       "      <td>130520</td>\n",
       "      <td>5472</td>\n",
       "      <td>view</td>\n",
       "      <td>1</td>\n",
       "    </tr>\n",
       "    <tr>\n",
       "      <th>1</th>\n",
       "      <td>2021-12-15 15:13:15</td>\n",
       "      <td>592</td>\n",
       "      <td>1697</td>\n",
       "      <td>view</td>\n",
       "      <td>1</td>\n",
       "    </tr>\n",
       "    <tr>\n",
       "      <th>2</th>\n",
       "      <td>2021-11-08 13:44:38</td>\n",
       "      <td>100010</td>\n",
       "      <td>6159</td>\n",
       "      <td>view</td>\n",
       "      <td>1</td>\n",
       "    </tr>\n",
       "    <tr>\n",
       "      <th>3</th>\n",
       "      <td>2021-12-03 08:41:09</td>\n",
       "      <td>99414</td>\n",
       "      <td>1805</td>\n",
       "      <td>view</td>\n",
       "      <td>1</td>\n",
       "    </tr>\n",
       "    <tr>\n",
       "      <th>4</th>\n",
       "      <td>2021-12-19 10:44:13</td>\n",
       "      <td>90210</td>\n",
       "      <td>2540</td>\n",
       "      <td>view</td>\n",
       "      <td>1</td>\n",
       "    </tr>\n",
       "  </tbody>\n",
       "</table>\n",
       "</div>"
      ],
      "text/plain": [
       "            timestamp  user_id  post_id action  target\n",
       "0 2021-11-11 20:37:36   130520     5472   view       1\n",
       "1 2021-12-15 15:13:15      592     1697   view       1\n",
       "2 2021-11-08 13:44:38   100010     6159   view       1\n",
       "3 2021-12-03 08:41:09    99414     1805   view       1\n",
       "4 2021-12-19 10:44:13    90210     2540   view       1"
      ]
     },
     "execution_count": 35,
     "metadata": {},
     "output_type": "execute_result"
    }
   ],
   "source": [
    "q = \"\"\"\n",
    "SELECT * \n",
    "FROM public.feed_data \n",
    "WHERE target = 1 AND EXTRACT(MONTH FROM timestamp) > 10\n",
    "ORDER BY RANDOM()\n",
    "LIMIT 3000000\n",
    "\"\"\"\n",
    "\n",
    "feed_likes_data = select(q)\n",
    "feed_likes_data.head()"
   ]
  },
  {
   "cell_type": "code",
   "execution_count": 36,
   "id": "479150fa",
   "metadata": {},
   "outputs": [
    {
     "data": {
      "text/html": [
       "<div>\n",
       "<style scoped>\n",
       "    .dataframe tbody tr th:only-of-type {\n",
       "        vertical-align: middle;\n",
       "    }\n",
       "\n",
       "    .dataframe tbody tr th {\n",
       "        vertical-align: top;\n",
       "    }\n",
       "\n",
       "    .dataframe thead th {\n",
       "        text-align: right;\n",
       "    }\n",
       "</style>\n",
       "<table border=\"1\" class=\"dataframe\">\n",
       "  <thead>\n",
       "    <tr style=\"text-align: right;\">\n",
       "      <th></th>\n",
       "      <th>timestamp</th>\n",
       "      <th>user_id</th>\n",
       "      <th>post_id</th>\n",
       "      <th>action</th>\n",
       "      <th>target</th>\n",
       "    </tr>\n",
       "  </thead>\n",
       "  <tbody>\n",
       "    <tr>\n",
       "      <th>0</th>\n",
       "      <td>2021-11-22 16:49:34</td>\n",
       "      <td>129031</td>\n",
       "      <td>2896</td>\n",
       "      <td>view</td>\n",
       "      <td>0</td>\n",
       "    </tr>\n",
       "    <tr>\n",
       "      <th>1</th>\n",
       "      <td>2021-12-20 19:48:17</td>\n",
       "      <td>163783</td>\n",
       "      <td>4273</td>\n",
       "      <td>view</td>\n",
       "      <td>0</td>\n",
       "    </tr>\n",
       "    <tr>\n",
       "      <th>2</th>\n",
       "      <td>2021-12-01 15:09:56</td>\n",
       "      <td>124496</td>\n",
       "      <td>2374</td>\n",
       "      <td>like</td>\n",
       "      <td>0</td>\n",
       "    </tr>\n",
       "    <tr>\n",
       "      <th>3</th>\n",
       "      <td>2021-12-15 22:46:35</td>\n",
       "      <td>58279</td>\n",
       "      <td>6471</td>\n",
       "      <td>view</td>\n",
       "      <td>0</td>\n",
       "    </tr>\n",
       "    <tr>\n",
       "      <th>4</th>\n",
       "      <td>2021-12-21 17:33:57</td>\n",
       "      <td>31318</td>\n",
       "      <td>5688</td>\n",
       "      <td>view</td>\n",
       "      <td>0</td>\n",
       "    </tr>\n",
       "  </tbody>\n",
       "</table>\n",
       "</div>"
      ],
      "text/plain": [
       "            timestamp  user_id  post_id action  target\n",
       "0 2021-11-22 16:49:34   129031     2896   view       0\n",
       "1 2021-12-20 19:48:17   163783     4273   view       0\n",
       "2 2021-12-01 15:09:56   124496     2374   like       0\n",
       "3 2021-12-15 22:46:35    58279     6471   view       0\n",
       "4 2021-12-21 17:33:57    31318     5688   view       0"
      ]
     },
     "execution_count": 36,
     "metadata": {},
     "output_type": "execute_result"
    }
   ],
   "source": [
    "q = \"\"\"\n",
    "SELECT * \n",
    "FROM public.feed_data \n",
    "WHERE target = 0 AND EXTRACT(MONTH FROM timestamp) > 10\n",
    "ORDER BY RANDOM()\n",
    "LIMIT 3000000\n",
    "\"\"\"\n",
    "\n",
    "feed_views_data = select(q)\n",
    "feed_views_data.head()"
   ]
  },
  {
   "cell_type": "code",
   "execution_count": 37,
   "id": "ef59875d",
   "metadata": {},
   "outputs": [
    {
     "data": {
      "text/html": [
       "<div>\n",
       "<style scoped>\n",
       "    .dataframe tbody tr th:only-of-type {\n",
       "        vertical-align: middle;\n",
       "    }\n",
       "\n",
       "    .dataframe tbody tr th {\n",
       "        vertical-align: top;\n",
       "    }\n",
       "\n",
       "    .dataframe thead th {\n",
       "        text-align: right;\n",
       "    }\n",
       "</style>\n",
       "<table border=\"1\" class=\"dataframe\">\n",
       "  <thead>\n",
       "    <tr style=\"text-align: right;\">\n",
       "      <th></th>\n",
       "      <th>timestamp</th>\n",
       "      <th>user_id</th>\n",
       "      <th>post_id</th>\n",
       "      <th>action</th>\n",
       "      <th>target</th>\n",
       "    </tr>\n",
       "  </thead>\n",
       "  <tbody>\n",
       "    <tr>\n",
       "      <th>0</th>\n",
       "      <td>2021-11-11 20:37:36</td>\n",
       "      <td>130520</td>\n",
       "      <td>5472</td>\n",
       "      <td>view</td>\n",
       "      <td>1</td>\n",
       "    </tr>\n",
       "    <tr>\n",
       "      <th>1</th>\n",
       "      <td>2021-12-15 15:13:15</td>\n",
       "      <td>592</td>\n",
       "      <td>1697</td>\n",
       "      <td>view</td>\n",
       "      <td>1</td>\n",
       "    </tr>\n",
       "    <tr>\n",
       "      <th>2</th>\n",
       "      <td>2021-11-08 13:44:38</td>\n",
       "      <td>100010</td>\n",
       "      <td>6159</td>\n",
       "      <td>view</td>\n",
       "      <td>1</td>\n",
       "    </tr>\n",
       "    <tr>\n",
       "      <th>3</th>\n",
       "      <td>2021-12-03 08:41:09</td>\n",
       "      <td>99414</td>\n",
       "      <td>1805</td>\n",
       "      <td>view</td>\n",
       "      <td>1</td>\n",
       "    </tr>\n",
       "    <tr>\n",
       "      <th>4</th>\n",
       "      <td>2021-12-19 10:44:13</td>\n",
       "      <td>90210</td>\n",
       "      <td>2540</td>\n",
       "      <td>view</td>\n",
       "      <td>1</td>\n",
       "    </tr>\n",
       "  </tbody>\n",
       "</table>\n",
       "</div>"
      ],
      "text/plain": [
       "            timestamp  user_id  post_id action  target\n",
       "0 2021-11-11 20:37:36   130520     5472   view       1\n",
       "1 2021-12-15 15:13:15      592     1697   view       1\n",
       "2 2021-11-08 13:44:38   100010     6159   view       1\n",
       "3 2021-12-03 08:41:09    99414     1805   view       1\n",
       "4 2021-12-19 10:44:13    90210     2540   view       1"
      ]
     },
     "execution_count": 37,
     "metadata": {},
     "output_type": "execute_result"
    }
   ],
   "source": [
    "feed_data = pd.concat([feed_likes_data, feed_views_data])\n",
    "\n",
    "feed_data.head()"
   ]
  },
  {
   "cell_type": "code",
   "execution_count": 38,
   "id": "ec4f84d7",
   "metadata": {},
   "outputs": [
    {
     "data": {
      "text/plain": [
       "(6000000, 5)"
      ]
     },
     "execution_count": 38,
     "metadata": {},
     "output_type": "execute_result"
    }
   ],
   "source": [
    "feed_data.shape"
   ]
  },
  {
   "cell_type": "code",
   "execution_count": 39,
   "id": "d8e062e8",
   "metadata": {},
   "outputs": [
    {
     "data": {
      "text/plain": [
       "0.5"
      ]
     },
     "execution_count": 39,
     "metadata": {},
     "output_type": "execute_result"
    }
   ],
   "source": [
    "feed_data.target.mean()"
   ]
  },
  {
   "cell_type": "code",
   "execution_count": 40,
   "id": "e5b1b641",
   "metadata": {},
   "outputs": [
    {
     "data": {
      "text/plain": [
       "<AxesSubplot:>"
      ]
     },
     "execution_count": 40,
     "metadata": {},
     "output_type": "execute_result"
    },
    {
     "data": {
      "image/png": "[encoded data removed]",
      "text/plain": [
       "<Figure size 432x288 with 1 Axes>"
      ]
     },
     "metadata": {
      "needs_background": "light"
     },
     "output_type": "display_data"
    }
   ],
   "source": [
    "feed_data.timestamp.dt.date.hist(xrot=15)"
   ]
  },
  {
   "cell_type": "code",
   "execution_count": 41,
   "id": "90a55efc",
   "metadata": {},
   "outputs": [
    {
     "data": {
      "text/plain": [
       "timestamp    1099361\n",
       "user_id       162663\n",
       "post_id         6831\n",
       "action             2\n",
       "target             2\n",
       "dtype: int64"
      ]
     },
     "execution_count": 41,
     "metadata": {},
     "output_type": "execute_result"
    }
   ],
   "source": [
    "# Проверим разнообразие по попавшим в трейн датасет пользователям\n",
    "feed_data[feed_data.timestamp.dt.date < ab_start_date].nunique()"
   ]
  },
  {
   "cell_type": "code",
   "execution_count": 42,
   "id": "d782ab21",
   "metadata": {},
   "outputs": [
    {
     "data": {
      "text/plain": [
       "timestamp    343667\n",
       "user_id      142959\n",
       "post_id        6831\n",
       "action            2\n",
       "target            2\n",
       "dtype: int64"
      ]
     },
     "execution_count": 42,
     "metadata": {},
     "output_type": "execute_result"
    }
   ],
   "source": [
    "# Проверим разнообразие по попавшим в тест датасет пользователям\n",
    "feed_data[feed_data.timestamp.dt.date >= ab_start_date].nunique()"
   ]
  },
  {
   "cell_type": "code",
   "execution_count": 43,
   "id": "3b5b08ce",
   "metadata": {},
   "outputs": [
    {
     "data": {
      "text/plain": [
       "(4553539, 5)"
      ]
     },
     "execution_count": 43,
     "metadata": {},
     "output_type": "execute_result"
    }
   ],
   "source": [
    "feed_data[feed_data.timestamp.dt.date < ab_start_date].shape"
   ]
  },
  {
   "cell_type": "code",
   "execution_count": 44,
   "id": "4648c9f4",
   "metadata": {},
   "outputs": [
    {
     "data": {
      "text/plain": [
       "0.497670273604772"
      ]
     },
     "execution_count": 44,
     "metadata": {},
     "output_type": "execute_result"
    }
   ],
   "source": [
    "feed_data[feed_data.timestamp.dt.date < ab_start_date].target.mean()"
   ]
  },
  {
   "cell_type": "code",
   "execution_count": 45,
   "id": "119404d0",
   "metadata": {},
   "outputs": [
    {
     "data": {
      "text/plain": [
       "0.5073341071760663"
      ]
     },
     "execution_count": 45,
     "metadata": {},
     "output_type": "execute_result"
    }
   ],
   "source": [
    "feed_data[feed_data.timestamp.dt.date >= ab_start_date].target.mean()"
   ]
  },
  {
   "cell_type": "markdown",
   "id": "da15693e",
   "metadata": {},
   "source": [
    "Остановимся на этом, будем использовать получившийся датасет в дальнейшей работе."
   ]
  },
  {
   "cell_type": "code",
   "execution_count": null,
   "id": "fede6d56",
   "metadata": {},
   "outputs": [],
   "source": []
  }
 ],
 "metadata": {
  "kernelspec": {
   "display_name": "Python 3 (ipykernel)",
   "language": "python",
   "name": "python3"
  },
  "language_info": {
   "codemirror_mode": {
    "name": "ipython",
    "version": 3
   },
   "file_extension": ".py",
   "mimetype": "text/x-python",
   "name": "python",
   "nbconvert_exporter": "python",
   "pygments_lexer": "ipython3",
   "version": "3.10.2"
  }
 },
 "nbformat": 4,
 "nbformat_minor": 5
}
