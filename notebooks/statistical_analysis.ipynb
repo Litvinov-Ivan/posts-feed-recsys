{
 "cells": [
  {
   "cell_type": "code",
   "execution_count": 1,
   "id": "dc8b8950",
   "metadata": {},
   "outputs": [],
   "source": [
    "import os\n",
    "import sys\n",
    "import time\n",
    "import yaml\n",
    "import hashlib\n",
    "import pandas as pd\n",
    "import numpy as np\n",
    "import matplotlib.pyplot as plt\n",
    "from catboost import CatBoostClassifier\n",
    "from datetime import datetime\n",
    "from scipy.stats import binom_test, mannwhitneyu\n",
    "from hashlib import md5\n",
    "\n",
    "sys.path.append(os.path.abspath(os.path.join('..')))\n",
    "sys.path.append(os.path.abspath(os.path.join('..\\posts_feed_service\\lib')))\n",
    "\n",
    "from posts_feed_service.lib.datatypes import FeedResponse, PostGet\n",
    "from posts_feed_service.lib.utils import get_group, request_transform"
   ]
  },
  {
   "cell_type": "code",
   "execution_count": 2,
   "id": "9646c5cc",
   "metadata": {},
   "outputs": [],
   "source": [
    "# Прочтём файл конфига с путями\n",
    "\n",
    "CONFIG_PATH = \"config.yaml\"\n",
    "with open(CONFIG_PATH, \"r\", encoding=\"utf-8\") as config_file:\n",
    "    CONFIG = yaml.load(config_file, Loader=yaml.FullLoader)"
   ]
  },
  {
   "cell_type": "markdown",
   "id": "7d5a2907",
   "metadata": {},
   "source": [
    "### Обработка датасета"
   ]
  },
  {
   "cell_type": "code",
   "execution_count": 3,
   "id": "cee7d12d",
   "metadata": {},
   "outputs": [
    {
     "data": {
      "text/html": [
       "<div>\n",
       "<style scoped>\n",
       "    .dataframe tbody tr th:only-of-type {\n",
       "        vertical-align: middle;\n",
       "    }\n",
       "\n",
       "    .dataframe tbody tr th {\n",
       "        vertical-align: top;\n",
       "    }\n",
       "\n",
       "    .dataframe thead th {\n",
       "        text-align: right;\n",
       "    }\n",
       "</style>\n",
       "<table border=\"1\" class=\"dataframe\">\n",
       "  <thead>\n",
       "    <tr style=\"text-align: right;\">\n",
       "      <th></th>\n",
       "      <th>timestamp</th>\n",
       "      <th>user_id</th>\n",
       "      <th>post_id</th>\n",
       "      <th>action</th>\n",
       "      <th>target</th>\n",
       "    </tr>\n",
       "  </thead>\n",
       "  <tbody>\n",
       "    <tr>\n",
       "      <th>0</th>\n",
       "      <td>2021-12-23 11:15:02</td>\n",
       "      <td>74168</td>\n",
       "      <td>3762</td>\n",
       "      <td>view</td>\n",
       "      <td>0</td>\n",
       "    </tr>\n",
       "    <tr>\n",
       "      <th>1</th>\n",
       "      <td>2021-12-24 17:30:11</td>\n",
       "      <td>161011</td>\n",
       "      <td>1427</td>\n",
       "      <td>view</td>\n",
       "      <td>1</td>\n",
       "    </tr>\n",
       "    <tr>\n",
       "      <th>2</th>\n",
       "      <td>2021-12-26 17:24:23</td>\n",
       "      <td>154745</td>\n",
       "      <td>5026</td>\n",
       "      <td>view</td>\n",
       "      <td>0</td>\n",
       "    </tr>\n",
       "    <tr>\n",
       "      <th>3</th>\n",
       "      <td>2021-12-27 21:20:12</td>\n",
       "      <td>117989</td>\n",
       "      <td>3752</td>\n",
       "      <td>view</td>\n",
       "      <td>0</td>\n",
       "    </tr>\n",
       "    <tr>\n",
       "      <th>4</th>\n",
       "      <td>2021-12-20 13:14:13</td>\n",
       "      <td>160820</td>\n",
       "      <td>5199</td>\n",
       "      <td>view</td>\n",
       "      <td>0</td>\n",
       "    </tr>\n",
       "  </tbody>\n",
       "</table>\n",
       "</div>"
      ],
      "text/plain": [
       "             timestamp  user_id  post_id action  target\n",
       "0  2021-12-23 11:15:02    74168     3762   view       0\n",
       "1  2021-12-24 17:30:11   161011     1427   view       1\n",
       "2  2021-12-26 17:24:23   154745     5026   view       0\n",
       "3  2021-12-27 21:20:12   117989     3752   view       0\n",
       "4  2021-12-20 13:14:13   160820     5199   view       0"
      ]
     },
     "execution_count": 3,
     "metadata": {},
     "output_type": "execute_result"
    }
   ],
   "source": [
    "# Загрузим выгруженный ранее из базы данных записи действий пользователей\n",
    "# за последние две недели наблюдений - на основе них будем проводить анализ\n",
    "\n",
    "test_df = pd.read_csv(CONFIG['data_folder'] + '/test_data.csv')\n",
    "test_df.head()"
   ]
  },
  {
   "cell_type": "code",
   "execution_count": 4,
   "id": "2edefac6",
   "metadata": {},
   "outputs": [
    {
     "data": {
      "text/plain": [
       "(250000, 5)"
      ]
     },
     "execution_count": 4,
     "metadata": {},
     "output_type": "execute_result"
    }
   ],
   "source": [
    "test_df.shape"
   ]
  },
  {
   "cell_type": "code",
   "execution_count": 5,
   "id": "26ebe900",
   "metadata": {},
   "outputs": [
    {
     "name": "stdout",
     "output_type": "stream",
     "text": [
      "<class 'pandas.core.frame.DataFrame'>\n",
      "RangeIndex: 250000 entries, 0 to 249999\n",
      "Data columns (total 5 columns):\n",
      " #   Column     Non-Null Count   Dtype \n",
      "---  ------     --------------   ----- \n",
      " 0   timestamp  250000 non-null  object\n",
      " 1   user_id    250000 non-null  int64 \n",
      " 2   post_id    250000 non-null  int64 \n",
      " 3   action     250000 non-null  object\n",
      " 4   target     250000 non-null  int64 \n",
      "dtypes: int64(3), object(2)\n",
      "memory usage: 9.5+ MB\n"
     ]
    }
   ],
   "source": [
    "test_df.info()"
   ]
  },
  {
   "cell_type": "code",
   "execution_count": 6,
   "id": "5e492ac3",
   "metadata": {},
   "outputs": [],
   "source": [
    "test_df['request_time'] = pd.to_datetime(test_df.timestamp)\n",
    "test_df = test_df.drop(['timestamp'], axis=1)"
   ]
  },
  {
   "cell_type": "code",
   "execution_count": 7,
   "id": "c06e068d",
   "metadata": {},
   "outputs": [
    {
     "data": {
      "text/plain": [
       "<AxesSubplot:>"
      ]
     },
     "execution_count": 7,
     "metadata": {},
     "output_type": "execute_result"
    },
    {
     "data": {
      "image/png": "[encoded data removed]",
      "text/plain": [
       "<Figure size 432x288 with 1 Axes>"
      ]
     },
     "metadata": {
      "needs_background": "light"
     },
     "output_type": "display_data"
    }
   ],
   "source": [
    "test_df.request_time.hist(xrot=15)"
   ]
  },
  {
   "cell_type": "markdown",
   "id": "399f9e15",
   "metadata": {},
   "source": [
    "Преобразуем датасет в \"тестовые\" для дальнейшего анализа.\n",
    "\n",
    "Получим сперва отклики нашего сервиса с лентой для каждого действия пользователя и затем проанализируем."
   ]
  },
  {
   "cell_type": "markdown",
   "id": "2d6016ea",
   "metadata": {},
   "source": [
    "### Ответы сервиса с рекомендациями"
   ]
  },
  {
   "cell_type": "code",
   "execution_count": 8,
   "id": "d0869d1b",
   "metadata": {},
   "outputs": [],
   "source": [
    "# Класс модели нашей рекомендационной системы\n",
    "\n",
    "class Model:\n",
    "    \"\"\"\n",
    "    Класс Model для получения ленты новостей\n",
    "    \"\"\"\n",
    "    def __init__(self):\n",
    "        \"\"\"\n",
    "        Конструктор класса Model\n",
    "\n",
    "        Загружает всё необходимое для обработки\n",
    "        признаков и получения ленты.\n",
    "        \"\"\"\n",
    "        self.control_model = CatBoostClassifier()\n",
    "        self.test_model = CatBoostClassifier()\n",
    "\n",
    "        self.control_model.load_model(CONFIG[\"classic_ml_model\"])\n",
    "        self.test_model.load_model(CONFIG[\"text_emb_model\"])\n",
    "\n",
    "        self.models_dict = {\n",
    "            \"control\": self.control_model,\n",
    "            \"test\": self.test_model\n",
    "        }\n",
    "\n",
    "        self.tables = {\n",
    "            \"posts\": pd.read_csv(CONFIG[\"post_df\"]),\n",
    "            \"users\": pd.read_csv(CONFIG[\"user_df\"]),\n",
    "            \"posts_tfidf\": pd.read_csv(CONFIG[\"tfidf_df\"]),\n",
    "            \"posts_lemmatized\": pd.read_csv(CONFIG[\"lemmatized_post_df\"]),\n",
    "            \"embs_post_df\": pd.read_csv(CONFIG[\"embs_post_df\"])\n",
    "        }\n",
    "\n",
    "    def get_feed(self, request: dict) -> FeedResponse:\n",
    "        \"\"\"\n",
    "        Метод получения предсказания цены автомобиля.\n",
    "\n",
    "        Производит обработку признаков запроса и\n",
    "        получает рекомендованные новости.\n",
    "        \"\"\"\n",
    "        exp_group = get_group(request[\"user_id\"])\n",
    "        posts_limit = request.get(\"posts_limit\", 5)\n",
    "        request = request_transform(request, exp_group, self.tables)\n",
    "\n",
    "        request_model = self.models_dict[exp_group]\n",
    "        col_order = request_model.feature_names_\n",
    "        feed_prediction = request_model.predict_proba(request[col_order])[:, 1]\n",
    "\n",
    "        indices = np.argpartition(\n",
    "            feed_prediction,\n",
    "            -posts_limit\n",
    "        )[-posts_limit:]\n",
    "        result_feed = self.tables[\"posts\"].iloc[indices].reset_index()\n",
    "\n",
    "        recs = []\n",
    "        for i, post in result_feed.iterrows():\n",
    "            recs.append(post[\"post_id\"])\n",
    "        return recs"
   ]
  },
  {
   "cell_type": "code",
   "execution_count": 9,
   "id": "d435de40",
   "metadata": {},
   "outputs": [],
   "source": [
    "# Напишем функцию получения рекомендаций по нашему датасету\n",
    "\n",
    "def get_recs_row(row, model):\n",
    "    return [post for post in model.get_feed(row)]\n",
    "\n",
    "\n",
    "def get_recs_df(df: pd.DataFrame) -> pd.DataFrame:\n",
    "    \"\"\"\n",
    "    Функция обработки датасета логов пользователей.\n",
    "    \n",
    "    По user_id и времени запроса добавляет к датасету\n",
    "    колонки с группой пользователя и лентой, которую даёт наш сервис.\n",
    "    \"\"\"\n",
    "    model = Model()\n",
    "    df['exp_group'] = df.user_id.apply(lambda x: get_group(x))\n",
    "    df['recommendations'] = df.apply(lambda x: get_recs_row(x, model), axis=1)\n",
    "    return df\n"
   ]
  },
  {
   "cell_type": "code",
   "execution_count": 10,
   "id": "c842c5f8",
   "metadata": {},
   "outputs": [
    {
     "data": {
      "text/html": [
       "<div>\n",
       "<style scoped>\n",
       "    .dataframe tbody tr th:only-of-type {\n",
       "        vertical-align: middle;\n",
       "    }\n",
       "\n",
       "    .dataframe tbody tr th {\n",
       "        vertical-align: top;\n",
       "    }\n",
       "\n",
       "    .dataframe thead th {\n",
       "        text-align: right;\n",
       "    }\n",
       "</style>\n",
       "<table border=\"1\" class=\"dataframe\">\n",
       "  <thead>\n",
       "    <tr style=\"text-align: right;\">\n",
       "      <th></th>\n",
       "      <th>user_id</th>\n",
       "      <th>post_id</th>\n",
       "      <th>action</th>\n",
       "      <th>target</th>\n",
       "      <th>request_time</th>\n",
       "      <th>exp_group</th>\n",
       "      <th>recommendations</th>\n",
       "    </tr>\n",
       "  </thead>\n",
       "  <tbody>\n",
       "    <tr>\n",
       "      <th>0</th>\n",
       "      <td>74168</td>\n",
       "      <td>3762</td>\n",
       "      <td>view</td>\n",
       "      <td>0</td>\n",
       "      <td>2021-12-23 11:15:02</td>\n",
       "      <td>control</td>\n",
       "      <td>[466, 373, 2148, 482, 542]</td>\n",
       "    </tr>\n",
       "    <tr>\n",
       "      <th>1</th>\n",
       "      <td>161011</td>\n",
       "      <td>1427</td>\n",
       "      <td>view</td>\n",
       "      <td>1</td>\n",
       "      <td>2021-12-24 17:30:11</td>\n",
       "      <td>test</td>\n",
       "      <td>[6776, 7024, 6333, 4159, 4047]</td>\n",
       "    </tr>\n",
       "    <tr>\n",
       "      <th>2</th>\n",
       "      <td>154745</td>\n",
       "      <td>5026</td>\n",
       "      <td>view</td>\n",
       "      <td>0</td>\n",
       "      <td>2021-12-26 17:24:23</td>\n",
       "      <td>control</td>\n",
       "      <td>[1221, 1326, 1504, 1347, 1768]</td>\n",
       "    </tr>\n",
       "    <tr>\n",
       "      <th>3</th>\n",
       "      <td>117989</td>\n",
       "      <td>3752</td>\n",
       "      <td>view</td>\n",
       "      <td>0</td>\n",
       "      <td>2021-12-27 21:20:12</td>\n",
       "      <td>control</td>\n",
       "      <td>[4509, 6458, 6777, 5379, 4651]</td>\n",
       "    </tr>\n",
       "    <tr>\n",
       "      <th>4</th>\n",
       "      <td>160820</td>\n",
       "      <td>5199</td>\n",
       "      <td>view</td>\n",
       "      <td>0</td>\n",
       "      <td>2021-12-20 13:14:13</td>\n",
       "      <td>test</td>\n",
       "      <td>[2582, 2548, 3923, 3880, 3113]</td>\n",
       "    </tr>\n",
       "  </tbody>\n",
       "</table>\n",
       "</div>"
      ],
      "text/plain": [
       "   user_id  post_id action  target        request_time exp_group  \\\n",
       "0    74168     3762   view       0 2021-12-23 11:15:02   control   \n",
       "1   161011     1427   view       1 2021-12-24 17:30:11      test   \n",
       "2   154745     5026   view       0 2021-12-26 17:24:23   control   \n",
       "3   117989     3752   view       0 2021-12-27 21:20:12   control   \n",
       "4   160820     5199   view       0 2021-12-20 13:14:13      test   \n",
       "\n",
       "                  recommendations  \n",
       "0      [466, 373, 2148, 482, 542]  \n",
       "1  [6776, 7024, 6333, 4159, 4047]  \n",
       "2  [1221, 1326, 1504, 1347, 1768]  \n",
       "3  [4509, 6458, 6777, 5379, 4651]  \n",
       "4  [2582, 2548, 3923, 3880, 3113]  "
      ]
     },
     "execution_count": 10,
     "metadata": {},
     "output_type": "execute_result"
    }
   ],
   "source": [
    "test_df = get_recs_df(test_df)\n",
    "\n",
    "test_df.head()"
   ]
  },
  {
   "cell_type": "code",
   "execution_count": 11,
   "id": "353d99f6",
   "metadata": {},
   "outputs": [
    {
     "name": "stdout",
     "output_type": "stream",
     "text": [
      "<class 'pandas.core.frame.DataFrame'>\n",
      "RangeIndex: 250000 entries, 0 to 249999\n",
      "Data columns (total 7 columns):\n",
      " #   Column           Non-Null Count   Dtype         \n",
      "---  ------           --------------   -----         \n",
      " 0   user_id          250000 non-null  int64         \n",
      " 1   post_id          250000 non-null  int64         \n",
      " 2   action           250000 non-null  object        \n",
      " 3   target           250000 non-null  int64         \n",
      " 4   request_time     250000 non-null  datetime64[ns]\n",
      " 5   exp_group        250000 non-null  object        \n",
      " 6   recommendations  250000 non-null  object        \n",
      "dtypes: datetime64[ns](1), int64(3), object(3)\n",
      "memory usage: 13.4+ MB\n"
     ]
    }
   ],
   "source": [
    "test_df.info()"
   ]
  },
  {
   "cell_type": "code",
   "execution_count": 12,
   "id": "0dc24610",
   "metadata": {},
   "outputs": [],
   "source": [
    "test_df.to_csv(CONFIG['datasets_folder'] + '/test_data_with_recs.csv', index=False)"
   ]
  },
  {
   "cell_type": "markdown",
   "id": "eba7d1f7",
   "metadata": {},
   "source": [
    "### Проверим разбиение пользователей на группы"
   ]
  },
  {
   "cell_type": "code",
   "execution_count": 13,
   "id": "e4ada553",
   "metadata": {},
   "outputs": [],
   "source": [
    "test_df = pd.read_csv(CONFIG['datasets_folder'] + '/test_data_with_recs.csv')"
   ]
  },
  {
   "cell_type": "code",
   "execution_count": 14,
   "id": "a8af5593",
   "metadata": {},
   "outputs": [
    {
     "data": {
      "text/html": [
       "<div>\n",
       "<style scoped>\n",
       "    .dataframe tbody tr th:only-of-type {\n",
       "        vertical-align: middle;\n",
       "    }\n",
       "\n",
       "    .dataframe tbody tr th {\n",
       "        vertical-align: top;\n",
       "    }\n",
       "\n",
       "    .dataframe thead th {\n",
       "        text-align: right;\n",
       "    }\n",
       "</style>\n",
       "<table border=\"1\" class=\"dataframe\">\n",
       "  <thead>\n",
       "    <tr style=\"text-align: right;\">\n",
       "      <th></th>\n",
       "      <th>exp_group</th>\n",
       "    </tr>\n",
       "    <tr>\n",
       "      <th>user_id</th>\n",
       "      <th></th>\n",
       "    </tr>\n",
       "  </thead>\n",
       "  <tbody>\n",
       "  </tbody>\n",
       "</table>\n",
       "</div>"
      ],
      "text/plain": [
       "Empty DataFrame\n",
       "Columns: [exp_group]\n",
       "Index: []"
      ]
     },
     "execution_count": 14,
     "metadata": {},
     "output_type": "execute_result"
    }
   ],
   "source": [
    "groups_num = test_df[['user_id', 'exp_group']].groupby('user_id').nunique()\n",
    "\n",
    "groups_num[groups_num.exp_group == 2]"
   ]
  },
  {
   "cell_type": "markdown",
   "id": "27208250",
   "metadata": {},
   "source": [
    "Получили пустое множество - значит наш алгоритм разбиения пользователей на обозримом датасете не получил коллизий и не записал ни одного пользователя сразу в обе группы."
   ]
  },
  {
   "cell_type": "markdown",
   "id": "5258254f",
   "metadata": {},
   "source": [
    "### Проверим равномерность разбиения"
   ]
  },
  {
   "cell_type": "code",
   "execution_count": 15,
   "id": "8003e84f",
   "metadata": {},
   "outputs": [
    {
     "name": "stdout",
     "output_type": "stream",
     "text": [
      "Всего пользователей в датасете: 108098\n",
      "Пользователей в контрольной группе: 54152\n",
      "Пользователей в экспериментальной группе: 53946\n"
     ]
    }
   ],
   "source": [
    "print(f\"Всего пользователей в датасете: {test_df.user_id.nunique()}\")\n",
    "print(f\"Пользователей в контрольной группе: {test_df[test_df.exp_group == 'control'].user_id.nunique()}\")\n",
    "print(f\"Пользователей в экспериментальной группе: {test_df[test_df.exp_group == 'test'].user_id.nunique()}\")"
   ]
  },
  {
   "cell_type": "markdown",
   "id": "a73782c0",
   "metadata": {},
   "source": [
    "Разбиение получилось практически равным. На всякий случай убедимся, что разница статистически незначима.\n",
    "Для этого проведем биномиальный тест и сравним доли.\n",
    "\n",
    "Тогда примем:\n",
    "1. Нулевая гипотеза - вероятность попадания пользователя в каждую группу симметрично\n",
    "$$H0: p=0.5$$\n",
    "2. Альтернативная гипотеза - алгоритм разбиения пользователей на группы несимметричен\n",
    "$$H1: p\\neq0.5$$\n",
    "3. Уровень значимости\n",
    "$$\\alpha=0.05$$"
   ]
  },
  {
   "cell_type": "code",
   "execution_count": 16,
   "id": "61f3a0f6",
   "metadata": {},
   "outputs": [
    {
     "name": "stdout",
     "output_type": "stream",
     "text": [
      "p-value разбиения на группы: 0.5329481089055046\n"
     ]
    },
    {
     "name": "stderr",
     "output_type": "stream",
     "text": [
      "C:\\Users\\Иван\\AppData\\Local\\Programs\\Python\\Python310\\lib\\site-packages\\scipy\\stats\\_discrete_distns.py:69: RuntimeWarning: divide by zero encountered in _binom_pdf\n",
      "  return _boost._binom_pdf(x, n, p)\n"
     ]
    }
   ],
   "source": [
    "# Посчитаем p-value полученного разбиения\n",
    "\n",
    "groups_pvalue = binom_test(\n",
    "    [\n",
    "        test_df[test_df.exp_group == 'control'].user_id.nunique(),\n",
    "        test_df[test_df.exp_group == 'test'].user_id.nunique()\n",
    "    ]\n",
    ")\n",
    "\n",
    "print(f\"p-value разбиения на группы: {groups_pvalue}\")"
   ]
  },
  {
   "cell_type": "markdown",
   "id": "cc60b649",
   "metadata": {},
   "source": [
    "Значение p-value больше уровня значимости, значит нулевую гипотезу отклонить не можем."
   ]
  },
  {
   "cell_type": "markdown",
   "id": "4abafc4a",
   "metadata": {},
   "source": [
    "### Оценим количество лайков, поставленных за время эксперимента"
   ]
  },
  {
   "cell_type": "code",
   "execution_count": 17,
   "id": "04cdc785",
   "metadata": {},
   "outputs": [
    {
     "name": "stdout",
     "output_type": "stream",
     "text": [
      "Доля пользователей, поставившая хотя бы один лайк: 0.24131806323891283\n"
     ]
    }
   ],
   "source": [
    "# Посмотрим долю пользователей, которая сделала хотя бы один лайк за время наблюдения\n",
    "\n",
    "likes_count = test_df[['user_id', 'target']].groupby('user_id').sum()\n",
    "\n",
    "n_users = test_df.user_id.nunique()\n",
    "n_users_w_like = likes_count[likes_count.target != 0].count().values[0]\n",
    "\n",
    "print(f\"Доля пользователей, поставившая хотя бы один лайк: {n_users_w_like / n_users}\")"
   ]
  },
  {
   "cell_type": "markdown",
   "id": "51d68883",
   "metadata": {},
   "source": [
    "### Проверка целевой метрики"
   ]
  },
  {
   "cell_type": "markdown",
   "id": "9593119d",
   "metadata": {},
   "source": [
    "К сожалению, ввиду искусственности проводимого A\\B-теста, ответить на вопрос \"стали ли люди ставить больше лайков в экспериментальной группе\" мы не сможем.\n",
    "Потому оценим проведенную работу по созданию и улучшению рекомендационного сервиса с помощью метрики hitrate_5 - доле рекомендаций, где был поставлен хотя бы один лайк."
   ]
  },
  {
   "cell_type": "markdown",
   "id": "a3c19178",
   "metadata": {},
   "source": [
    "#### Сперва посмотрим на общий hitrate за время эксперимента\n",
    "\n",
    "Опять же ввиду ограничений, метрику будем считать следующим образом:\n",
    "1. Для всех действий пользователей посмотрим на то, есть ли просмотренный\\лайкнутый пост в предложенных алгоритмом рекомендациях. В случае, если поста нет в ленте, предложенной нашим сервисом, не будем рассматривать данное действие при расчете метрики.\n",
    "2. Посчитаем общий hitrate по всему эксперименту"
   ]
  },
  {
   "cell_type": "code",
   "execution_count": 18,
   "id": "339f31e5",
   "metadata": {},
   "outputs": [
    {
     "data": {
      "text/html": [
       "<div>\n",
       "<style scoped>\n",
       "    .dataframe tbody tr th:only-of-type {\n",
       "        vertical-align: middle;\n",
       "    }\n",
       "\n",
       "    .dataframe tbody tr th {\n",
       "        vertical-align: top;\n",
       "    }\n",
       "\n",
       "    .dataframe thead th {\n",
       "        text-align: right;\n",
       "    }\n",
       "</style>\n",
       "<table border=\"1\" class=\"dataframe\">\n",
       "  <thead>\n",
       "    <tr style=\"text-align: right;\">\n",
       "      <th></th>\n",
       "      <th>user_id</th>\n",
       "      <th>post_id</th>\n",
       "      <th>action</th>\n",
       "      <th>target</th>\n",
       "      <th>request_time</th>\n",
       "      <th>exp_group</th>\n",
       "      <th>rec_1</th>\n",
       "      <th>rec_2</th>\n",
       "      <th>rec_3</th>\n",
       "      <th>rec_4</th>\n",
       "      <th>rec_5</th>\n",
       "    </tr>\n",
       "  </thead>\n",
       "  <tbody>\n",
       "    <tr>\n",
       "      <th>0</th>\n",
       "      <td>74168</td>\n",
       "      <td>3762</td>\n",
       "      <td>view</td>\n",
       "      <td>0</td>\n",
       "      <td>2021-12-23 11:15:02</td>\n",
       "      <td>control</td>\n",
       "      <td>466</td>\n",
       "      <td>373</td>\n",
       "      <td>2148</td>\n",
       "      <td>482</td>\n",
       "      <td>542</td>\n",
       "    </tr>\n",
       "    <tr>\n",
       "      <th>1</th>\n",
       "      <td>161011</td>\n",
       "      <td>1427</td>\n",
       "      <td>view</td>\n",
       "      <td>1</td>\n",
       "      <td>2021-12-24 17:30:11</td>\n",
       "      <td>test</td>\n",
       "      <td>6776</td>\n",
       "      <td>7024</td>\n",
       "      <td>6333</td>\n",
       "      <td>4159</td>\n",
       "      <td>4047</td>\n",
       "    </tr>\n",
       "    <tr>\n",
       "      <th>2</th>\n",
       "      <td>154745</td>\n",
       "      <td>5026</td>\n",
       "      <td>view</td>\n",
       "      <td>0</td>\n",
       "      <td>2021-12-26 17:24:23</td>\n",
       "      <td>control</td>\n",
       "      <td>1221</td>\n",
       "      <td>1326</td>\n",
       "      <td>1504</td>\n",
       "      <td>1347</td>\n",
       "      <td>1768</td>\n",
       "    </tr>\n",
       "    <tr>\n",
       "      <th>3</th>\n",
       "      <td>117989</td>\n",
       "      <td>3752</td>\n",
       "      <td>view</td>\n",
       "      <td>0</td>\n",
       "      <td>2021-12-27 21:20:12</td>\n",
       "      <td>control</td>\n",
       "      <td>4509</td>\n",
       "      <td>6458</td>\n",
       "      <td>6777</td>\n",
       "      <td>5379</td>\n",
       "      <td>4651</td>\n",
       "    </tr>\n",
       "    <tr>\n",
       "      <th>4</th>\n",
       "      <td>160820</td>\n",
       "      <td>5199</td>\n",
       "      <td>view</td>\n",
       "      <td>0</td>\n",
       "      <td>2021-12-20 13:14:13</td>\n",
       "      <td>test</td>\n",
       "      <td>2582</td>\n",
       "      <td>2548</td>\n",
       "      <td>3923</td>\n",
       "      <td>3880</td>\n",
       "      <td>3113</td>\n",
       "    </tr>\n",
       "  </tbody>\n",
       "</table>\n",
       "</div>"
      ],
      "text/plain": [
       "   user_id  post_id action  target         request_time exp_group  rec_1  \\\n",
       "0    74168     3762   view       0  2021-12-23 11:15:02   control    466   \n",
       "1   161011     1427   view       1  2021-12-24 17:30:11      test   6776   \n",
       "2   154745     5026   view       0  2021-12-26 17:24:23   control   1221   \n",
       "3   117989     3752   view       0  2021-12-27 21:20:12   control   4509   \n",
       "4   160820     5199   view       0  2021-12-20 13:14:13      test   2582   \n",
       "\n",
       "   rec_2  rec_3  rec_4  rec_5  \n",
       "0    373   2148    482    542  \n",
       "1   7024   6333   4159   4047  \n",
       "2   1326   1504   1347   1768  \n",
       "3   6458   6777   5379   4651  \n",
       "4   2548   3923   3880   3113  "
      ]
     },
     "execution_count": 18,
     "metadata": {},
     "output_type": "execute_result"
    }
   ],
   "source": [
    "# Раскроем рекомендации в столбцы\n",
    "test_df['recommendations'] = test_df['recommendations'].astype(str)\n",
    "recs = pd.DataFrame(test_df['recommendations'].str.strip(to_strip='[]').str.split(','))\n",
    "recs_cols = lambda x: 'rec_{}'.format(x + 1)\n",
    "recs_df = pd.DataFrame(recs.pop('recommendations').values.tolist()).rename(columns=recs_cols)\n",
    "recs_df = recs_df.astype(int)\n",
    "test_df = test_df.join(recs_df).drop(['recommendations'], axis=1)\n",
    "\n",
    "test_df.head()"
   ]
  },
  {
   "cell_type": "code",
   "execution_count": 19,
   "id": "7089f10e",
   "metadata": {},
   "outputs": [
    {
     "data": {
      "text/html": [
       "<div>\n",
       "<style scoped>\n",
       "    .dataframe tbody tr th:only-of-type {\n",
       "        vertical-align: middle;\n",
       "    }\n",
       "\n",
       "    .dataframe tbody tr th {\n",
       "        vertical-align: top;\n",
       "    }\n",
       "\n",
       "    .dataframe thead th {\n",
       "        text-align: right;\n",
       "    }\n",
       "</style>\n",
       "<table border=\"1\" class=\"dataframe\">\n",
       "  <thead>\n",
       "    <tr style=\"text-align: right;\">\n",
       "      <th></th>\n",
       "      <th>user_id</th>\n",
       "      <th>post_id</th>\n",
       "      <th>action</th>\n",
       "      <th>target</th>\n",
       "      <th>request_time</th>\n",
       "      <th>exp_group</th>\n",
       "      <th>rec_1</th>\n",
       "      <th>rec_2</th>\n",
       "      <th>rec_3</th>\n",
       "      <th>rec_4</th>\n",
       "      <th>rec_5</th>\n",
       "    </tr>\n",
       "  </thead>\n",
       "  <tbody>\n",
       "    <tr>\n",
       "      <th>1258</th>\n",
       "      <td>70873</td>\n",
       "      <td>1326</td>\n",
       "      <td>view</td>\n",
       "      <td>1</td>\n",
       "      <td>2021-12-16 07:23:04</td>\n",
       "      <td>control</td>\n",
       "      <td>1688</td>\n",
       "      <td>1326</td>\n",
       "      <td>1504</td>\n",
       "      <td>1768</td>\n",
       "      <td>1347</td>\n",
       "    </tr>\n",
       "    <tr>\n",
       "      <th>2881</th>\n",
       "      <td>19514</td>\n",
       "      <td>1221</td>\n",
       "      <td>like</td>\n",
       "      <td>0</td>\n",
       "      <td>2021-12-23 15:05:16</td>\n",
       "      <td>control</td>\n",
       "      <td>1221</td>\n",
       "      <td>1326</td>\n",
       "      <td>1504</td>\n",
       "      <td>1768</td>\n",
       "      <td>1347</td>\n",
       "    </tr>\n",
       "    <tr>\n",
       "      <th>3450</th>\n",
       "      <td>139792</td>\n",
       "      <td>3880</td>\n",
       "      <td>view</td>\n",
       "      <td>0</td>\n",
       "      <td>2021-12-27 15:22:05</td>\n",
       "      <td>test</td>\n",
       "      <td>2548</td>\n",
       "      <td>4144</td>\n",
       "      <td>3880</td>\n",
       "      <td>3113</td>\n",
       "      <td>3923</td>\n",
       "    </tr>\n",
       "    <tr>\n",
       "      <th>4403</th>\n",
       "      <td>60105</td>\n",
       "      <td>4651</td>\n",
       "      <td>like</td>\n",
       "      <td>0</td>\n",
       "      <td>2021-12-26 22:19:27</td>\n",
       "      <td>control</td>\n",
       "      <td>4651</td>\n",
       "      <td>4509</td>\n",
       "      <td>5379</td>\n",
       "      <td>6458</td>\n",
       "      <td>6777</td>\n",
       "    </tr>\n",
       "    <tr>\n",
       "      <th>5380</th>\n",
       "      <td>74935</td>\n",
       "      <td>2548</td>\n",
       "      <td>view</td>\n",
       "      <td>0</td>\n",
       "      <td>2021-12-20 07:16:28</td>\n",
       "      <td>test</td>\n",
       "      <td>2548</td>\n",
       "      <td>3880</td>\n",
       "      <td>3923</td>\n",
       "      <td>3113</td>\n",
       "      <td>1747</td>\n",
       "    </tr>\n",
       "    <tr>\n",
       "      <th>...</th>\n",
       "      <td>...</td>\n",
       "      <td>...</td>\n",
       "      <td>...</td>\n",
       "      <td>...</td>\n",
       "      <td>...</td>\n",
       "      <td>...</td>\n",
       "      <td>...</td>\n",
       "      <td>...</td>\n",
       "      <td>...</td>\n",
       "      <td>...</td>\n",
       "      <td>...</td>\n",
       "    </tr>\n",
       "    <tr>\n",
       "      <th>244807</th>\n",
       "      <td>121547</td>\n",
       "      <td>6776</td>\n",
       "      <td>view</td>\n",
       "      <td>0</td>\n",
       "      <td>2021-12-23 21:03:04</td>\n",
       "      <td>test</td>\n",
       "      <td>7024</td>\n",
       "      <td>6776</td>\n",
       "      <td>4047</td>\n",
       "      <td>4159</td>\n",
       "      <td>3915</td>\n",
       "    </tr>\n",
       "    <tr>\n",
       "      <th>245024</th>\n",
       "      <td>126777</td>\n",
       "      <td>4144</td>\n",
       "      <td>view</td>\n",
       "      <td>0</td>\n",
       "      <td>2021-12-27 12:36:28</td>\n",
       "      <td>test</td>\n",
       "      <td>2548</td>\n",
       "      <td>3923</td>\n",
       "      <td>3880</td>\n",
       "      <td>4144</td>\n",
       "      <td>3113</td>\n",
       "    </tr>\n",
       "    <tr>\n",
       "      <th>245149</th>\n",
       "      <td>125292</td>\n",
       "      <td>1347</td>\n",
       "      <td>view</td>\n",
       "      <td>0</td>\n",
       "      <td>2021-12-25 12:03:11</td>\n",
       "      <td>control</td>\n",
       "      <td>1221</td>\n",
       "      <td>1504</td>\n",
       "      <td>1768</td>\n",
       "      <td>1326</td>\n",
       "      <td>1347</td>\n",
       "    </tr>\n",
       "    <tr>\n",
       "      <th>247452</th>\n",
       "      <td>30334</td>\n",
       "      <td>1768</td>\n",
       "      <td>view</td>\n",
       "      <td>0</td>\n",
       "      <td>2021-12-23 12:16:34</td>\n",
       "      <td>control</td>\n",
       "      <td>1688</td>\n",
       "      <td>1326</td>\n",
       "      <td>1504</td>\n",
       "      <td>1347</td>\n",
       "      <td>1768</td>\n",
       "    </tr>\n",
       "    <tr>\n",
       "      <th>247563</th>\n",
       "      <td>78351</td>\n",
       "      <td>2548</td>\n",
       "      <td>view</td>\n",
       "      <td>0</td>\n",
       "      <td>2021-12-17 10:28:48</td>\n",
       "      <td>test</td>\n",
       "      <td>2548</td>\n",
       "      <td>4144</td>\n",
       "      <td>3880</td>\n",
       "      <td>3923</td>\n",
       "      <td>3113</td>\n",
       "    </tr>\n",
       "  </tbody>\n",
       "</table>\n",
       "<p>280 rows × 11 columns</p>\n",
       "</div>"
      ],
      "text/plain": [
       "        user_id  post_id action  target         request_time exp_group  rec_1  \\\n",
       "1258      70873     1326   view       1  2021-12-16 07:23:04   control   1688   \n",
       "2881      19514     1221   like       0  2021-12-23 15:05:16   control   1221   \n",
       "3450     139792     3880   view       0  2021-12-27 15:22:05      test   2548   \n",
       "4403      60105     4651   like       0  2021-12-26 22:19:27   control   4651   \n",
       "5380      74935     2548   view       0  2021-12-20 07:16:28      test   2548   \n",
       "...         ...      ...    ...     ...                  ...       ...    ...   \n",
       "244807   121547     6776   view       0  2021-12-23 21:03:04      test   7024   \n",
       "245024   126777     4144   view       0  2021-12-27 12:36:28      test   2548   \n",
       "245149   125292     1347   view       0  2021-12-25 12:03:11   control   1221   \n",
       "247452    30334     1768   view       0  2021-12-23 12:16:34   control   1688   \n",
       "247563    78351     2548   view       0  2021-12-17 10:28:48      test   2548   \n",
       "\n",
       "        rec_2  rec_3  rec_4  rec_5  \n",
       "1258     1326   1504   1768   1347  \n",
       "2881     1326   1504   1768   1347  \n",
       "3450     4144   3880   3113   3923  \n",
       "4403     4509   5379   6458   6777  \n",
       "5380     3880   3923   3113   1747  \n",
       "...       ...    ...    ...    ...  \n",
       "244807   6776   4047   4159   3915  \n",
       "245024   3923   3880   4144   3113  \n",
       "245149   1504   1768   1326   1347  \n",
       "247452   1326   1504   1347   1768  \n",
       "247563   4144   3880   3923   3113  \n",
       "\n",
       "[280 rows x 11 columns]"
      ]
     },
     "execution_count": 19,
     "metadata": {},
     "output_type": "execute_result"
    }
   ],
   "source": [
    "# Теперь отфильтруем действия\n",
    "\n",
    "hitrate_df = test_df[\n",
    "    (test_df.post_id == test_df.rec_1) | (test_df.post_id == test_df.rec_2) | (test_df.post_id == test_df.rec_3) |\n",
    "    (test_df.post_id == test_df.rec_4) | (test_df.post_id == test_df.rec_5)\n",
    "]\n",
    "\n",
    "hitrate_df"
   ]
  },
  {
   "cell_type": "code",
   "execution_count": 20,
   "id": "c2b93f34",
   "metadata": {},
   "outputs": [
    {
     "data": {
      "text/plain": [
       "<AxesSubplot:>"
      ]
     },
     "execution_count": 20,
     "metadata": {},
     "output_type": "execute_result"
    },
    {
     "data": {
      "image/png": "[encoded data removed]",
      "text/plain": [
       "<Figure size 432x288 with 1 Axes>"
      ]
     },
     "metadata": {
      "needs_background": "light"
     },
     "output_type": "display_data"
    }
   ],
   "source": [
    "# Получили всего 280 совпадений. Для серьезной аналитики этого, конечно, \n",
    "# было бы недостаточно, но так как наш А\\Б-тест несет синтетический характер - все же попробуем сравнить и оценить метрику.\n",
    "\n",
    "hitrate_df.exp_group.hist()"
   ]
  },
  {
   "cell_type": "code",
   "execution_count": 21,
   "id": "b0528ae9",
   "metadata": {},
   "outputs": [],
   "source": [
    "# Заполним колонку target там, где view = like\n",
    "\n",
    "hitrate_df.loc[hitrate_df.action == 'like', 'target'] = 1"
   ]
  },
  {
   "cell_type": "markdown",
   "id": "dcb859f5",
   "metadata": {},
   "source": [
    "\n",
    "Пользователь мог получить выдачу ленты и читать посты и, соответственно, лайкать их в разные моменты времени.\n",
    "Мы же и выгружали не полные логи и формировали ленту для каждого действия пользователя.\n",
    "\n",
    "Потому, хоть это и не совсем корректно, общий hitrate_5 будем считать как средний target."
   ]
  },
  {
   "cell_type": "code",
   "execution_count": 22,
   "id": "d844a267",
   "metadata": {},
   "outputs": [
    {
     "name": "stdout",
     "output_type": "stream",
     "text": [
      "Общий hitrate: 0.33214285714285713\n"
     ]
    }
   ],
   "source": [
    "overall_hitrate_5 = hitrate_df.target.mean()\n",
    "\n",
    "print(f\"Общий hitrate: {overall_hitrate_5}\")"
   ]
  },
  {
   "cell_type": "markdown",
   "id": "f4fd586e",
   "metadata": {},
   "source": [
    "Полученное значение сильно ниже желаемых и полученных при проверке скрытым датасетом. Будем считать это последствием наших принятых допущений и ограничений при данном анализе."
   ]
  },
  {
   "cell_type": "markdown",
   "id": "d178a73e",
   "metadata": {},
   "source": [
    "### Сравним показатели метрики у разных групп пользователей\n",
    "\n",
    "Ввиду того, что пользователи совершают множество действий, применить критерий для сравнения долей мы не можем - будем применять бакетный подход:\n",
    "1. Разобъем датасет на подмножества бакетов\n",
    "2. По каждому бакету оценим hitrate\n",
    "3. Оценим полученные значения статистическим критерием и сделаем вывод о различии метрики между двумя группами"
   ]
  },
  {
   "cell_type": "code",
   "execution_count": 23,
   "id": "1322ea74",
   "metadata": {},
   "outputs": [
    {
     "name": "stderr",
     "output_type": "stream",
     "text": [
      "C:\\Temp\\ipykernel_736\\3496021369.py:4: SettingWithCopyWarning: \n",
      "A value is trying to be set on a copy of a slice from a DataFrame.\n",
      "Try using .loc[row_indexer,col_indexer] = value instead\n",
      "\n",
      "See the caveats in the documentation: https://pandas.pydata.org/pandas-docs/stable/user_guide/indexing.html#returning-a-view-versus-a-copy\n",
      "  hitrate_df['bucket'] = hitrate_df['user_id'].apply(\n"
     ]
    }
   ],
   "source": [
    "# Бакетирование. \n",
    "# Ввиду малого количества данных в hitrate_df будем использовать 10 бакетов\n",
    "\n",
    "hitrate_df['bucket'] = hitrate_df['user_id'].apply(\n",
    "    lambda x: int(md5((str(x) + 'bucket_salt').encode()).hexdigest(), 16) % 10\n",
    ")"
   ]
  },
  {
   "cell_type": "code",
   "execution_count": 24,
   "id": "36ac9369",
   "metadata": {},
   "outputs": [],
   "source": [
    "# Оценки метрики внутри каждого бакета\n",
    "\n",
    "test_hitrate_lst = []\n",
    "control_hitrate_lst = []\n",
    "\n",
    "for i in range(0, 10):\n",
    "    bucket_df = hitrate_df[hitrate_df['bucket'] == i]\n",
    "    \n",
    "    control_bucket_df = bucket_df[bucket_df['exp_group'] == 'control']\n",
    "    test_bucket_df = bucket_df[bucket_df['exp_group'] == 'test']\n",
    "    \n",
    "    bucket_hitrate_at_5_control = (control_bucket_df.target.mean())\n",
    "    bucket_hitrate_at_5_test = (test_bucket_df.target.mean())\n",
    "    \n",
    "    control_hitrate_lst.append(bucket_hitrate_at_5_control)\n",
    "    test_hitrate_lst.append(bucket_hitrate_at_5_test)"
   ]
  },
  {
   "cell_type": "code",
   "execution_count": 25,
   "id": "9b807e4c",
   "metadata": {},
   "outputs": [
    {
     "name": "stdout",
     "output_type": "stream",
     "text": [
      "Среднее значение hitrate@5 в экспериментальной группе: 0.37156328320802007\n",
      "Среднее значение hitrate@5 в контрольной группе: 0.34692513368983957\n"
     ]
    }
   ],
   "source": [
    "# Средние значения hitrate по группам\n",
    "\n",
    "print(f\"Среднее значение hitrate@5 в экспериментальной группе: {np.mean(test_hitrate_lst)}\")\n",
    "print(f\"Среднее значение hitrate@5 в контрольной группе: {np.mean(control_hitrate_lst)}\")"
   ]
  },
  {
   "cell_type": "code",
   "execution_count": 26,
   "id": "81d0cb52",
   "metadata": {},
   "outputs": [
    {
     "name": "stdout",
     "output_type": "stream",
     "text": [
      "P-value теста: 1.0, при уровне значимости в 0.05\n"
     ]
    }
   ],
   "source": [
    "# Оценим статистическую значимость с помощью теста Манна-Уитни\n",
    "\n",
    "ab_test_pvalue = mannwhitneyu(test_hitrate_lst, control_hitrate_lst)[1]\n",
    "alpha = 0.05\n",
    "\n",
    "print(f\"P-value теста: {ab_test_pvalue}, при уровне значимости в {alpha}\")"
   ]
  },
  {
   "cell_type": "markdown",
   "id": "fa03e06b",
   "metadata": {},
   "source": [
    "Что означает, что разница между полученными метриками статистически значима (p-value > alpha)"
   ]
  },
  {
   "cell_type": "markdown",
   "id": "9f2a6f34",
   "metadata": {},
   "source": [
    "### Выводы\n",
    "\n",
    "Таким образом, статистически значимая разница в целевой метрике hitrate@5 между экспериментальной и контрольной группой составляет ~2 процентных пункта. Это позволяет нам сделать главный вывод проделанной работы - в созданном нами сервисе рекомендации, получаемые экспериментальной моделью лучше контрольной. В случае реальных замеров можно было бы оценить прирост лайков, а так же посмотреть продуктовые метрики для более точной оценки полезности улучшений сервиса рекомендаций."
   ]
  },
  {
   "cell_type": "code",
   "execution_count": null,
   "id": "b4c0278d",
   "metadata": {},
   "outputs": [],
   "source": []
  }
 ],
 "metadata": {
  "kernelspec": {
   "display_name": "Python 3 (ipykernel)",
   "language": "python",
   "name": "python3"
  },
  "language_info": {
   "codemirror_mode": {
    "name": "ipython",
    "version": 3
   },
   "file_extension": ".py",
   "mimetype": "text/x-python",
   "name": "python",
   "nbconvert_exporter": "python",
   "pygments_lexer": "ipython3",
   "version": "3.10.2"
  }
 },
 "nbformat": 4,
 "nbformat_minor": 5
}
