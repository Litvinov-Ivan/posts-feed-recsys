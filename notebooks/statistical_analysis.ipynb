{
 "cells": [
  {
   "cell_type": "code",
   "execution_count": 1,
   "id": "dc8b8950",
   "metadata": {},
   "outputs": [],
   "source": [
    "import os\n",
    "import sys\n",
    "import yaml\n",
    "import hashlib\n",
    "import pandas as pd\n",
    "import numpy as np\n",
    "import matplotlib.pyplot as plt\n",
    "from catboost import CatBoostClassifier\n",
    "from datetime import datetime\n",
    "\n",
    "sys.path.append(os.path.abspath(os.path.join('..')))\n",
    "sys.path.append(os.path.abspath(os.path.join('..\\posts_feed_service\\lib')))\n",
    "\n",
    "from posts_feed_service.lib.datatypes import FeedResponse, PostGet\n",
    "from posts_feed_service.lib.utils import get_group, request_transform"
   ]
  },
  {
   "cell_type": "code",
   "execution_count": 2,
   "id": "9646c5cc",
   "metadata": {},
   "outputs": [],
   "source": [
    "# Прочтём файл конфига с путями\n",
    "\n",
    "CONFIG_PATH = \"config.yaml\"\n",
    "with open(CONFIG_PATH, \"r\", encoding=\"utf-8\") as config_file:\n",
    "    CONFIG = yaml.load(config_file, Loader=yaml.FullLoader)"
   ]
  },
  {
   "cell_type": "markdown",
   "id": "7d5a2907",
   "metadata": {},
   "source": [
    "## Обработка датасета"
   ]
  },
  {
   "cell_type": "code",
   "execution_count": 27,
   "id": "cee7d12d",
   "metadata": {},
   "outputs": [
    {
     "data": {
      "text/html": [
       "<div>\n",
       "<style scoped>\n",
       "    .dataframe tbody tr th:only-of-type {\n",
       "        vertical-align: middle;\n",
       "    }\n",
       "\n",
       "    .dataframe tbody tr th {\n",
       "        vertical-align: top;\n",
       "    }\n",
       "\n",
       "    .dataframe thead th {\n",
       "        text-align: right;\n",
       "    }\n",
       "</style>\n",
       "<table border=\"1\" class=\"dataframe\">\n",
       "  <thead>\n",
       "    <tr style=\"text-align: right;\">\n",
       "      <th></th>\n",
       "      <th>timestamp</th>\n",
       "      <th>user_id</th>\n",
       "      <th>post_id</th>\n",
       "      <th>action</th>\n",
       "      <th>target</th>\n",
       "    </tr>\n",
       "  </thead>\n",
       "  <tbody>\n",
       "    <tr>\n",
       "      <th>0</th>\n",
       "      <td>2021-12-28 16:54:11</td>\n",
       "      <td>93131</td>\n",
       "      <td>1085</td>\n",
       "      <td>view</td>\n",
       "      <td>1</td>\n",
       "    </tr>\n",
       "    <tr>\n",
       "      <th>1</th>\n",
       "      <td>2021-12-28 23:04:25</td>\n",
       "      <td>139522</td>\n",
       "      <td>3516</td>\n",
       "      <td>view</td>\n",
       "      <td>1</td>\n",
       "    </tr>\n",
       "    <tr>\n",
       "      <th>2</th>\n",
       "      <td>2021-12-16 12:38:03</td>\n",
       "      <td>82300</td>\n",
       "      <td>3820</td>\n",
       "      <td>view</td>\n",
       "      <td>1</td>\n",
       "    </tr>\n",
       "    <tr>\n",
       "      <th>3</th>\n",
       "      <td>2021-12-29 12:32:00</td>\n",
       "      <td>29208</td>\n",
       "      <td>1784</td>\n",
       "      <td>view</td>\n",
       "      <td>1</td>\n",
       "    </tr>\n",
       "    <tr>\n",
       "      <th>4</th>\n",
       "      <td>2021-12-18 21:20:53</td>\n",
       "      <td>66754</td>\n",
       "      <td>1335</td>\n",
       "      <td>view</td>\n",
       "      <td>1</td>\n",
       "    </tr>\n",
       "  </tbody>\n",
       "</table>\n",
       "</div>"
      ],
      "text/plain": [
       "             timestamp  user_id  post_id action  target\n",
       "0  2021-12-28 16:54:11    93131     1085   view       1\n",
       "1  2021-12-28 23:04:25   139522     3516   view       1\n",
       "2  2021-12-16 12:38:03    82300     3820   view       1\n",
       "3  2021-12-29 12:32:00    29208     1784   view       1\n",
       "4  2021-12-18 21:20:53    66754     1335   view       1"
      ]
     },
     "execution_count": 27,
     "metadata": {},
     "output_type": "execute_result"
    }
   ],
   "source": [
    "# Загрузим выгруженный ранее из базы данных записи действий пользователей\n",
    "# за последние две недели наблюдений - на основе них будем проводить анализ\n",
    "\n",
    "test_df = pd.read_csv(CONFIG['data_folder'] + '/test_data.csv')\n",
    "test_df.head()"
   ]
  },
  {
   "cell_type": "code",
   "execution_count": 28,
   "id": "2edefac6",
   "metadata": {},
   "outputs": [
    {
     "data": {
      "text/plain": [
       "(1444810, 5)"
      ]
     },
     "execution_count": 28,
     "metadata": {},
     "output_type": "execute_result"
    }
   ],
   "source": [
    "test_df.shape"
   ]
  },
  {
   "cell_type": "code",
   "execution_count": 29,
   "id": "26ebe900",
   "metadata": {},
   "outputs": [
    {
     "name": "stdout",
     "output_type": "stream",
     "text": [
      "<class 'pandas.core.frame.DataFrame'>\n",
      "RangeIndex: 1444810 entries, 0 to 1444809\n",
      "Data columns (total 5 columns):\n",
      " #   Column     Non-Null Count    Dtype \n",
      "---  ------     --------------    ----- \n",
      " 0   timestamp  1444810 non-null  object\n",
      " 1   user_id    1444810 non-null  int64 \n",
      " 2   post_id    1444810 non-null  int64 \n",
      " 3   action     1444810 non-null  object\n",
      " 4   target     1444810 non-null  int64 \n",
      "dtypes: int64(3), object(2)\n",
      "memory usage: 55.1+ MB\n"
     ]
    }
   ],
   "source": [
    "test_df.info()"
   ]
  },
  {
   "cell_type": "code",
   "execution_count": 30,
   "id": "5e492ac3",
   "metadata": {},
   "outputs": [],
   "source": [
    "test_df['request_time'] = pd.to_datetime(test_df.timestamp)\n",
    "test_df = test_df.drop(['timestamp'], axis=1)"
   ]
  },
  {
   "cell_type": "code",
   "execution_count": 31,
   "id": "c06e068d",
   "metadata": {},
   "outputs": [
    {
     "data": {
      "text/plain": [
       "<AxesSubplot:>"
      ]
     },
     "execution_count": 31,
     "metadata": {},
     "output_type": "execute_result"
    },
    {
     "data": {
      "image/png": "[encoded data removed]",
      "text/plain": [
       "<Figure size 432x288 with 1 Axes>"
      ]
     },
     "metadata": {
      "needs_background": "light"
     },
     "output_type": "display_data"
    }
   ],
   "source": [
    "test_df.request_time.hist(xrot=15)"
   ]
  },
  {
   "cell_type": "markdown",
   "id": "399f9e15",
   "metadata": {},
   "source": [
    "Преобразуем датасет в \"тестовые\" для дальнейшего анализа.\n",
    "\n",
    "Получим сперва отклики нашего сервиса с лентой для каждого действия пользователя и затем проанализируем."
   ]
  },
  {
   "cell_type": "markdown",
   "id": "2d6016ea",
   "metadata": {},
   "source": [
    "### Ответы сервиса с рекомендациями"
   ]
  },
  {
   "cell_type": "code",
   "execution_count": 8,
   "id": "d0869d1b",
   "metadata": {},
   "outputs": [],
   "source": [
    "# Класс модели нашей рекомендационной системы\n",
    "\n",
    "class Model:\n",
    "    \"\"\"\n",
    "    Класс Model для получения ленты новостей\n",
    "    \"\"\"\n",
    "    def __init__(self):\n",
    "        \"\"\"\n",
    "        Конструктор класса Model\n",
    "\n",
    "        Загружает всё необходимое для обработки\n",
    "        признаков и получения ленты.\n",
    "        \"\"\"\n",
    "        self.control_model = CatBoostClassifier()\n",
    "        self.test_model = CatBoostClassifier()\n",
    "\n",
    "        self.control_model.load_model(CONFIG[\"classic_ml_model\"])\n",
    "        self.test_model.load_model(CONFIG[\"text_emb_model\"])\n",
    "\n",
    "        self.models_dict = {\n",
    "            \"control\": self.control_model,\n",
    "            \"test\": self.test_model\n",
    "        }\n",
    "\n",
    "        self.tables = {\n",
    "            \"posts\": pd.read_csv(CONFIG[\"post_df\"]),\n",
    "            \"users\": pd.read_csv(CONFIG[\"user_df\"]),\n",
    "            \"posts_tfidf\": pd.read_csv(CONFIG[\"tfidf_df\"]),\n",
    "            \"posts_lemmatized\": pd.read_csv(CONFIG[\"lemmatized_post_df\"]),\n",
    "            \"embs_post_df\": pd.read_csv(CONFIG[\"embs_post_df\"])\n",
    "        }\n",
    "\n",
    "    def get_feed(self, request: dict) -> FeedResponse:\n",
    "        \"\"\"\n",
    "        Метод получения предсказания цены автомобиля.\n",
    "\n",
    "        Производит обработку признаков запроса и\n",
    "        получает рекомендованные новости.\n",
    "        \"\"\"\n",
    "        exp_group = get_group(request[\"user_id\"])\n",
    "        posts_limit = request.get(\"posts_limit\", 5)\n",
    "        request = request_transform(request, exp_group, self.tables)\n",
    "\n",
    "        request_model = self.models_dict[exp_group]\n",
    "        col_order = request_model.feature_names_\n",
    "        feed_prediction = request_model.predict_proba(request[col_order])[:, 1]\n",
    "\n",
    "        indices = np.argpartition(\n",
    "            feed_prediction,\n",
    "            -posts_limit\n",
    "        )[-posts_limit:]\n",
    "        result_feed = self.tables[\"posts\"].iloc[indices].reset_index()\n",
    "\n",
    "        recs = FeedResponse()\n",
    "        recs.exp_group = exp_group\n",
    "        for i, post in result_feed.iterrows():\n",
    "            recs.feed.append(\n",
    "                PostGet(\n",
    "                    post_id=post[\"post_id\"],\n",
    "                    text=post[\"text\"],\n",
    "                    topic=post[\"topic\"]\n",
    "                )\n",
    "            )\n",
    "        return recs"
   ]
  },
  {
   "cell_type": "code",
   "execution_count": 23,
   "id": "d435de40",
   "metadata": {},
   "outputs": [],
   "source": [
    "# Напишем функцию получения рекомендаций по нашему датасету\n",
    "\n",
    "def get_recs_df(df: pd.DataFrame) -> pd.DataFrame:\n",
    "    \"\"\"\n",
    "    Функция обработки датасета логов пользователей.\n",
    "    \n",
    "    По user_id и времени запроса добавляет к датасету\n",
    "    колонки с группой пользователя и лентой, которую даёт наш сервис.\n",
    "    \"\"\"\n",
    "    model = Model()\n",
    "    start = time.time()\n",
    "    df['exp_group'] = df.user_id.apply(lambda x: get_group(x))\n",
    "    group = time.time()\n",
    "    df['recommendations'] = df.apply(lambda x: [post.post_id for post in model.get_feed(x).feed], axis=1)\n",
    "    end = time.time()\n",
    "    print(group - start)\n",
    "    print(end - group)\n",
    "    return df\n"
   ]
  },
  {
   "cell_type": "code",
   "execution_count": null,
   "id": "5baeeb74",
   "metadata": {},
   "outputs": [],
   "source": [
    "test_df = get_recs_df(test_df)\n",
    "\n",
    "test_df.head()"
   ]
  },
  {
   "cell_type": "code",
   "execution_count": null,
   "id": "ca5c8035",
   "metadata": {},
   "outputs": [],
   "source": [
    "test_df.shape"
   ]
  },
  {
   "cell_type": "code",
   "execution_count": null,
   "id": "7175f8d8",
   "metadata": {},
   "outputs": [],
   "source": [
    "test_df.info()"
   ]
  },
  {
   "cell_type": "code",
   "execution_count": null,
   "id": "8003e84f",
   "metadata": {},
   "outputs": [],
   "source": [
    "test_df.to_csv(CONFIG['datasets_folder'] + '/test_data_with_recs.csv', index=False)"
   ]
  },
  {
   "cell_type": "code",
   "execution_count": null,
   "id": "27bb853a",
   "metadata": {},
   "outputs": [],
   "source": []
  },
  {
   "cell_type": "code",
   "execution_count": null,
   "id": "61f3a0f6",
   "metadata": {},
   "outputs": [],
   "source": []
  },
  {
   "cell_type": "code",
   "execution_count": null,
   "id": "c2813c9c",
   "metadata": {},
   "outputs": [],
   "source": []
  },
  {
   "cell_type": "code",
   "execution_count": null,
   "id": "9aafbfb5",
   "metadata": {},
   "outputs": [],
   "source": []
  },
  {
   "cell_type": "code",
   "execution_count": null,
   "id": "04cdc785",
   "metadata": {},
   "outputs": [],
   "source": []
  },
  {
   "cell_type": "code",
   "execution_count": null,
   "id": "b40420ca",
   "metadata": {},
   "outputs": [],
   "source": []
  },
  {
   "cell_type": "code",
   "execution_count": null,
   "id": "b567166c",
   "metadata": {},
   "outputs": [],
   "source": []
  },
  {
   "cell_type": "code",
   "execution_count": 59,
   "id": "97401ff2",
   "metadata": {},
   "outputs": [
    {
     "name": "stdout",
     "output_type": "stream",
     "text": [
      "0.0\n",
      "0.022825002670288086\n"
     ]
    },
    {
     "data": {
      "text/plain": [
       "0.7386033535003662"
      ]
     },
     "execution_count": 59,
     "metadata": {},
     "output_type": "execute_result"
    }
   ],
   "source": [
    "import time\n",
    "\n",
    "start = time.time()\n",
    "get_recs_df(test_df.sample(1))\n",
    "end = time.time()\n",
    "\n",
    "end - start"
   ]
  },
  {
   "cell_type": "code",
   "execution_count": 60,
   "id": "6048d817",
   "metadata": {},
   "outputs": [
    {
     "data": {
      "text/plain": [
       "(1444810, 6)"
      ]
     },
     "execution_count": 60,
     "metadata": {},
     "output_type": "execute_result"
    }
   ],
   "source": [
    "test_df.shape"
   ]
  },
  {
   "cell_type": "code",
   "execution_count": null,
   "id": "330ed175",
   "metadata": {},
   "outputs": [],
   "source": [
    "test_df.info()"
   ]
  },
  {
   "cell_type": "code",
   "execution_count": null,
   "id": "01b5e1bc",
   "metadata": {},
   "outputs": [],
   "source": []
  },
  {
   "cell_type": "code",
   "execution_count": null,
   "id": "9b2909c5",
   "metadata": {},
   "outputs": [],
   "source": []
  },
  {
   "cell_type": "code",
   "execution_count": null,
   "id": "6c2e90cc",
   "metadata": {},
   "outputs": [],
   "source": []
  },
  {
   "cell_type": "code",
   "execution_count": null,
   "id": "51a8ddfa",
   "metadata": {},
   "outputs": [],
   "source": []
  },
  {
   "cell_type": "code",
   "execution_count": null,
   "id": "68e688bb",
   "metadata": {},
   "outputs": [],
   "source": []
  },
  {
   "cell_type": "code",
   "execution_count": null,
   "id": "1322ea74",
   "metadata": {},
   "outputs": [],
   "source": []
  },
  {
   "cell_type": "code",
   "execution_count": null,
   "id": "89a6daa6",
   "metadata": {},
   "outputs": [],
   "source": []
  },
  {
   "cell_type": "code",
   "execution_count": null,
   "id": "36ac9369",
   "metadata": {},
   "outputs": [],
   "source": []
  },
  {
   "cell_type": "code",
   "execution_count": null,
   "id": "9b807e4c",
   "metadata": {},
   "outputs": [],
   "source": []
  },
  {
   "cell_type": "code",
   "execution_count": null,
   "id": "81d0cb52",
   "metadata": {},
   "outputs": [],
   "source": []
  },
  {
   "cell_type": "code",
   "execution_count": null,
   "id": "dc6d2b7d",
   "metadata": {},
   "outputs": [],
   "source": []
  },
  {
   "cell_type": "code",
   "execution_count": null,
   "id": "a9af39dc",
   "metadata": {},
   "outputs": [],
   "source": []
  }
 ],
 "metadata": {
  "kernelspec": {
   "display_name": "Python 3 (ipykernel)",
   "language": "python",
   "name": "python3"
  },
  "language_info": {
   "codemirror_mode": {
    "name": "ipython",
    "version": 3
   },
   "file_extension": ".py",
   "mimetype": "text/x-python",
   "name": "python",
   "nbconvert_exporter": "python",
   "pygments_lexer": "ipython3",
   "version": "3.10.2"
  }
 },
 "nbformat": 4,
 "nbformat_minor": 5
}
