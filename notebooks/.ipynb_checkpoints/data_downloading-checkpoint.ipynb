{
 "cells": [
  {
   "cell_type": "code",
   "execution_count": null,
   "id": "f700104f",
   "metadata": {},
   "outputs": [],
   "source": [
    "import pandas as pd\n",
    "import numpy as np\n",
    "import matplotlib.pyplot as plt\n",
    "import seaborn as sns\n",
    "from sqlalchemy import create_engine\n",
    "from sqlalchemy.engine import Engine\n",
    "from pathlib import Path\n",
    "import yaml"
   ]
  },
  {
   "cell_type": "code",
   "execution_count": null,
   "id": "cbf5f2d5",
   "metadata": {},
   "outputs": [],
   "source": [
    "# Настроим подключение к базе данных\n",
    "CONFIG_PATH = \"config.yaml\"\n",
    "with open(CONFIG_PATH, \"r\", encoding=\"utf-8\") as config_file:\n",
    "    CONFIG = yaml.load(config_file, Loader=yaml.FullLoader)\n",
    "\n",
    "CON = create_engine(\n",
    "    CONFIG['database_url']\n",
    ")\n",
    "\n",
    "def select(query: str, con: Engine = CON) -> pd.DataFrame:\n",
    "    \"\"\"\n",
    "    Функция обобщённого sql-запроса к базе данных соцсети, содержащей три таблицы:\n",
    "    1. Данные пользователей user\n",
    "    2. Данные постов post\n",
    "    3. Данные действий пользователей в соцсети feed\n",
    "    \"\"\"\n",
    "    return pd.read_sql(query, con)"
   ]
  },
  {
   "cell_type": "markdown",
   "id": "d5505863",
   "metadata": {},
   "source": [
    "##### Загрузим данные из базы"
   ]
  },
  {
   "cell_type": "code",
   "execution_count": null,
   "id": "2f332a92",
   "metadata": {},
   "outputs": [],
   "source": [
    "# Посмотрим таблицу юзеров\n",
    "q = \"\"\"\n",
    "SELECT *\n",
    "FROM public.user\n",
    "\"\"\"\n",
    "\n",
    "user_data = select(q)\n",
    "user_data.head()"
   ]
  },
  {
   "cell_type": "code",
   "execution_count": null,
   "id": "4c71e738",
   "metadata": {},
   "outputs": [],
   "source": [
    "user_data.shape"
   ]
  },
  {
   "cell_type": "code",
   "execution_count": null,
   "id": "08db0852",
   "metadata": {},
   "outputs": [],
   "source": [
    "# Теперь таблицу постов\n",
    "q = \"\"\"\n",
    "SELECT *\n",
    "FROM public.post\n",
    "\"\"\"\n",
    "\n",
    "post_data = select(q)\n",
    "post_data.head()"
   ]
  },
  {
   "cell_type": "code",
   "execution_count": null,
   "id": "79a60983",
   "metadata": {},
   "outputs": [],
   "source": [
    "# Наконец посмотрим на таблицу взаимодействия пользователей и постов в соцсети\n",
    "q = \"\"\"\n",
    "SELECT count(*)\n",
    "FROM public.feed_data\n",
    "\"\"\"\n",
    "\n",
    "count_feed_data = select(q)\n",
    "count_feed_data.head()"
   ]
  },
  {
   "cell_type": "code",
   "execution_count": null,
   "id": "bae1e27d",
   "metadata": {},
   "outputs": [],
   "source": [
    "# Как видно, в таблице 77 миллионов записей, что превышает наши вычислительные возможности.\n",
    "# Для решения этой проблемы отсортируем и пронумеруем все действия юзеров с помощью оконной функции\n",
    "# и отфильтруем ранние действия юзеров и будем рассматривать только не позднее 35го по счету.\n",
    "\n",
    "q = \"\"\"\n",
    "WITH q1 (timestamp, user_id, post_id, action, target, num) AS \n",
    "(\n",
    "    SELECT timestamp, user_id, post_id, action, target, ROW_NUMBER() OVER (PARTITION BY user_id ORDER BY timestamp DESC) AS num\n",
    "    FROM public.feed_data\n",
    "    WHERE action = 'view'\n",
    ")\n",
    "SELECT timestamp, user_id, post_id, target\n",
    "FROM q1\n",
    "WHERE num <= 35\n",
    "\"\"\"\n",
    "\n",
    "feed_data = select(q)\n",
    "feed_data.head()"
   ]
  },
  {
   "cell_type": "code",
   "execution_count": null,
   "id": "bb1761eb",
   "metadata": {
    "scrolled": false
   },
   "outputs": [],
   "source": [
    "# Получаем уже приемлемое количество записей\n",
    "\n",
    "feed_data.shape"
   ]
  },
  {
   "cell_type": "markdown",
   "id": "58da061a",
   "metadata": {},
   "source": [
    "##### Получим итоговый датасет для решения задачи"
   ]
  },
  {
   "cell_type": "code",
   "execution_count": null,
   "id": "53e46196",
   "metadata": {},
   "outputs": [],
   "source": [
    "# Смёрджим датафреймы для получения итогового датасета\n",
    "\n",
    "data = feed_data.merge(\n",
    "    user_data.rename(columns={'id': 'user_id'}), on='user_id'\n",
    ").merge(\n",
    "    post_data.rename(columns={'id': 'post_id'}), on='post_id'\n",
    ")\n",
    "\n",
    "data.head()"
   ]
  },
  {
   "cell_type": "code",
   "execution_count": null,
   "id": "dc838beb",
   "metadata": {},
   "outputs": [],
   "source": [
    "data.shape"
   ]
  },
  {
   "cell_type": "code",
   "execution_count": null,
   "id": "c8dfd3e3",
   "metadata": {},
   "outputs": [],
   "source": [
    "# Сохраним датасет для его дальнейшей обработки перед обучением модели\n",
    "\n",
    "data.to_csv(CONFIG['datasets_folder'] + '/data.csv', index=False)"
   ]
  },
  {
   "cell_type": "code",
   "execution_count": null,
   "id": "64c88024",
   "metadata": {},
   "outputs": [],
   "source": []
  }
 ],
 "metadata": {
  "kernelspec": {
   "display_name": "Python 3 (ipykernel)",
   "language": "python",
   "name": "python3"
  },
  "language_info": {
   "codemirror_mode": {
    "name": "ipython",
    "version": 3
   },
   "file_extension": ".py",
   "mimetype": "text/x-python",
   "name": "python",
   "nbconvert_exporter": "python",
   "pygments_lexer": "ipython3",
   "version": "3.10.2"
  }
 },
 "nbformat": 4,
 "nbformat_minor": 5
}
